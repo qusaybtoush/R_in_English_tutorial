{
 "cells": [
  {
   "cell_type": "markdown",
   "id": "systematic-phase",
   "metadata": {},
   "source": [
    "# R Language for beginner    \n",
    "\n"
   ]
  },
  {
   "cell_type": "markdown",
   "id": "coastal-manhattan",
   "metadata": {},
   "source": [
    "### R is a programming language and open-source software used for statistical computing and data analysis. It was specifically designed for data analysis and statistical modeling, making it a popular choice among statisticians, data analysts, and data scientists.\n",
    "\n",
    "\n",
    "* concat me if you have any questions : Qusay AL-Btoush"
   ]
  },
  {
   "cell_type": "markdown",
   "id": "326b4a1e",
   "metadata": {
    "papermill": {
     "duration": 0.023041,
     "end_time": "2023-10-12T19:32:17.347947",
     "exception": false,
     "start_time": "2023-10-12T19:32:17.324906",
     "status": "completed"
    },
    "tags": []
   },
   "source": [
    "[https://github.com/qusaybtoush](http://)\n"
   ]
  },
  {
   "cell_type": "markdown",
   "id": "03d0ca89",
   "metadata": {
    "papermill": {
     "duration": 0.023052,
     "end_time": "2023-10-12T19:32:17.394793",
     "exception": false,
     "start_time": "2023-10-12T19:32:17.371741",
     "status": "completed"
    },
    "tags": []
   },
   "source": [
    "[https://www.linkedin.com/in/qusayal-btoush/](http://)"
   ]
  },
  {
   "cell_type": "markdown",
   "id": "a37f0b79",
   "metadata": {
    "papermill": {
     "duration": 0.02265,
     "end_time": "2023-10-12T19:32:17.302471",
     "exception": false,
     "start_time": "2023-10-12T19:32:17.279821",
     "status": "completed"
    },
    "tags": []
   },
   "source": [
    "[https://www.kaggle.com/qusaybtoush1990](http://)\n",
    "\n"
   ]
  },
  {
   "cell_type": "code",
   "execution_count": null,
   "id": "twenty-poetry",
   "metadata": {},
   "outputs": [],
   "source": []
  },
  {
   "cell_type": "code",
   "execution_count": 1,
   "id": "f0ee7d76",
   "metadata": {
    "execution": {
     "iopub.execute_input": "2023-10-12T19:29:45.353689Z",
     "iopub.status.busy": "2023-10-12T19:29:45.350821Z",
     "iopub.status.idle": "2023-10-12T19:29:45.572974Z",
     "shell.execute_reply": "2023-10-12T19:29:45.569985Z"
    },
    "papermill": {
     "duration": 0.241686,
     "end_time": "2023-10-12T19:29:45.577046",
     "exception": false,
     "start_time": "2023-10-12T19:29:45.335360",
     "status": "completed"
    },
    "tags": []
   },
   "outputs": [
    {
     "data": {
      "text/html": [
       "9"
      ],
      "text/latex": [
       "9"
      ],
      "text/markdown": [
       "9"
      ],
      "text/plain": [
       "[1] 9"
      ]
     },
     "metadata": {},
     "output_type": "display_data"
    },
    {
     "data": {
      "text/html": [
       "5.5"
      ],
      "text/latex": [
       "5.5"
      ],
      "text/markdown": [
       "5.5"
      ],
      "text/plain": [
       "[1] 5.5"
      ]
     },
     "metadata": {},
     "output_type": "display_data"
    },
    {
     "data": {
      "text/html": [
       "'one'"
      ],
      "text/latex": [
       "'one'"
      ],
      "text/markdown": [
       "'one'"
      ],
      "text/plain": [
       "[1] \"one\""
      ]
     },
     "metadata": {},
     "output_type": "display_data"
    },
    {
     "data": {
      "text/html": [
       "TRUE"
      ],
      "text/latex": [
       "TRUE"
      ],
      "text/markdown": [
       "TRUE"
      ],
      "text/plain": [
       "[1] TRUE"
      ]
     },
     "metadata": {},
     "output_type": "display_data"
    },
    {
     "data": {
      "text/html": [
       "23.5"
      ],
      "text/latex": [
       "23.5"
      ],
      "text/markdown": [
       "23.5"
      ],
      "text/plain": [
       "[1] 23.5"
      ]
     },
     "metadata": {},
     "output_type": "display_data"
    }
   ],
   "source": [
    "# Define the Variables \n",
    "#using '<-' OR '='\n",
    "\n",
    "a = 9    #numeric\n",
    "x <- 5.5     #numeric\n",
    "y = \"one\"  #character \n",
    "z= TRUE    #boolean  TRUE or  FALES - you can writing T or F\n",
    "q = a + 9+5.5      # you can add multi varibles \n",
    "\n",
    "a   # you can writing   print (a or x ...)\n",
    "x\n",
    "y\n",
    "z\n",
    "q"
   ]
  },
  {
   "cell_type": "code",
   "execution_count": 2,
   "id": "fb513515",
   "metadata": {
    "execution": {
     "iopub.execute_input": "2023-10-12T19:29:45.651163Z",
     "iopub.status.busy": "2023-10-12T19:29:45.602295Z",
     "iopub.status.idle": "2023-10-12T19:29:45.671964Z",
     "shell.execute_reply": "2023-10-12T19:29:45.669433Z"
    },
    "papermill": {
     "duration": 0.085041,
     "end_time": "2023-10-12T19:29:45.674870",
     "exception": false,
     "start_time": "2023-10-12T19:29:45.589829",
     "status": "completed"
    },
    "tags": []
   },
   "outputs": [
    {
     "data": {
      "text/html": [
       "'numeric'"
      ],
      "text/latex": [
       "'numeric'"
      ],
      "text/markdown": [
       "'numeric'"
      ],
      "text/plain": [
       "[1] \"numeric\""
      ]
     },
     "metadata": {},
     "output_type": "display_data"
    }
   ],
   "source": [
    "# show the type\n",
    "class(x) # you can writing class(a or y or z)"
   ]
  },
  {
   "cell_type": "code",
   "execution_count": 3,
   "id": "92e173ae",
   "metadata": {
    "execution": {
     "iopub.execute_input": "2023-10-12T19:29:45.698553Z",
     "iopub.status.busy": "2023-10-12T19:29:45.696179Z",
     "iopub.status.idle": "2023-10-12T19:29:45.750952Z",
     "shell.execute_reply": "2023-10-12T19:29:45.748782Z"
    },
    "papermill": {
     "duration": 0.069742,
     "end_time": "2023-10-12T19:29:45.753851",
     "exception": false,
     "start_time": "2023-10-12T19:29:45.684109",
     "status": "completed"
    },
    "tags": []
   },
   "outputs": [
    {
     "data": {
      "text/html": [
       "<style>\n",
       ".list-inline {list-style: none; margin:0; padding: 0}\n",
       ".list-inline>li {display: inline-block}\n",
       ".list-inline>li:not(:last-child)::after {content: \"\\00b7\"; padding: 0 .5ex}\n",
       "</style>\n",
       "<ol class=list-inline><li>1</li><li>2</li><li>3</li><li>4</li><li>5</li><li>6</li><li>7</li><li>8</li><li>9</li><li>10</li></ol>\n"
      ],
      "text/latex": [
       "\\begin{enumerate*}\n",
       "\\item 1\n",
       "\\item 2\n",
       "\\item 3\n",
       "\\item 4\n",
       "\\item 5\n",
       "\\item 6\n",
       "\\item 7\n",
       "\\item 8\n",
       "\\item 9\n",
       "\\item 10\n",
       "\\end{enumerate*}\n"
      ],
      "text/markdown": [
       "1. 1\n",
       "2. 2\n",
       "3. 3\n",
       "4. 4\n",
       "5. 5\n",
       "6. 6\n",
       "7. 7\n",
       "8. 8\n",
       "9. 9\n",
       "10. 10\n",
       "\n",
       "\n"
      ],
      "text/plain": [
       " [1]  1  2  3  4  5  6  7  8  9 10"
      ]
     },
     "metadata": {},
     "output_type": "display_data"
    },
    {
     "data": {
      "text/html": [
       "<style>\n",
       ".list-inline {list-style: none; margin:0; padding: 0}\n",
       ".list-inline>li {display: inline-block}\n",
       ".list-inline>li:not(:last-child)::after {content: \"\\00b7\"; padding: 0 .5ex}\n",
       "</style>\n",
       "<ol class=list-inline><li>1</li><li>4</li><li>7</li><li>10</li></ol>\n"
      ],
      "text/latex": [
       "\\begin{enumerate*}\n",
       "\\item 1\n",
       "\\item 4\n",
       "\\item 7\n",
       "\\item 10\n",
       "\\end{enumerate*}\n"
      ],
      "text/markdown": [
       "1. 1\n",
       "2. 4\n",
       "3. 7\n",
       "4. 10\n",
       "\n",
       "\n"
      ],
      "text/plain": [
       "[1]  1  4  7 10"
      ]
     },
     "metadata": {},
     "output_type": "display_data"
    },
    {
     "data": {
      "text/html": [
       "3"
      ],
      "text/latex": [
       "3"
      ],
      "text/markdown": [
       "3"
      ],
      "text/plain": [
       "[1] 3"
      ]
     },
     "metadata": {},
     "output_type": "display_data"
    },
    {
     "data": {
      "text/html": [
       "<style>\n",
       ".list-inline {list-style: none; margin:0; padding: 0}\n",
       ".list-inline>li {display: inline-block}\n",
       ".list-inline>li:not(:last-child)::after {content: \"\\00b7\"; padding: 0 .5ex}\n",
       "</style>\n",
       "<ol class=list-inline><li>2</li><li>3</li><li>4</li><li>5</li><li>6</li><li>7</li><li>8</li><li>9</li><li>10</li></ol>\n"
      ],
      "text/latex": [
       "\\begin{enumerate*}\n",
       "\\item 2\n",
       "\\item 3\n",
       "\\item 4\n",
       "\\item 5\n",
       "\\item 6\n",
       "\\item 7\n",
       "\\item 8\n",
       "\\item 9\n",
       "\\item 10\n",
       "\\end{enumerate*}\n"
      ],
      "text/markdown": [
       "1. 2\n",
       "2. 3\n",
       "3. 4\n",
       "4. 5\n",
       "5. 6\n",
       "6. 7\n",
       "7. 8\n",
       "8. 9\n",
       "9. 10\n",
       "\n",
       "\n"
      ],
      "text/plain": [
       "[1]  2  3  4  5  6  7  8  9 10"
      ]
     },
     "metadata": {},
     "output_type": "display_data"
    }
   ],
   "source": [
    "#create a sequence of elements\n",
    "x <- seq (1,10)\n",
    "x\n",
    "y <- seq (1,10,3)    #you can add step any number\n",
    "y\n",
    "\n",
    "#select element index 3         * the index start from 1\n",
    "x[3]   # index 3\n",
    "x[-1]  # all element without the index 1 , you can writing -2 to -10 if you don`t need this element "
   ]
  },
  {
   "cell_type": "code",
   "execution_count": 4,
   "id": "67068272",
   "metadata": {
    "execution": {
     "iopub.execute_input": "2023-10-12T19:29:45.778726Z",
     "iopub.status.busy": "2023-10-12T19:29:45.776668Z",
     "iopub.status.idle": "2023-10-12T19:29:45.829269Z",
     "shell.execute_reply": "2023-10-12T19:29:45.827181Z"
    },
    "papermill": {
     "duration": 0.068322,
     "end_time": "2023-10-12T19:29:45.831907",
     "exception": false,
     "start_time": "2023-10-12T19:29:45.763585",
     "status": "completed"
    },
    "tags": []
   },
   "outputs": [
    {
     "name": "stderr",
     "output_type": "stream",
     "text": [
      "Warning message in x + y:\n",
      "“longer object length is not a multiple of shorter object length”\n"
     ]
    },
    {
     "data": {
      "text/html": [
       "<style>\n",
       ".list-inline {list-style: none; margin:0; padding: 0}\n",
       ".list-inline>li {display: inline-block}\n",
       ".list-inline>li:not(:last-child)::after {content: \"\\00b7\"; padding: 0 .5ex}\n",
       "</style>\n",
       "<ol class=list-inline><li>2</li><li>6</li><li>10</li><li>14</li><li>6</li><li>10</li><li>14</li><li>18</li><li>10</li><li>14</li></ol>\n"
      ],
      "text/latex": [
       "\\begin{enumerate*}\n",
       "\\item 2\n",
       "\\item 6\n",
       "\\item 10\n",
       "\\item 14\n",
       "\\item 6\n",
       "\\item 10\n",
       "\\item 14\n",
       "\\item 18\n",
       "\\item 10\n",
       "\\item 14\n",
       "\\end{enumerate*}\n"
      ],
      "text/markdown": [
       "1. 2\n",
       "2. 6\n",
       "3. 10\n",
       "4. 14\n",
       "5. 6\n",
       "6. 10\n",
       "7. 14\n",
       "8. 18\n",
       "9. 10\n",
       "10. 14\n",
       "\n",
       "\n"
      ],
      "text/plain": [
       " [1]  2  6 10 14  6 10 14 18 10 14"
      ]
     },
     "metadata": {},
     "output_type": "display_data"
    },
    {
     "name": "stderr",
     "output_type": "stream",
     "text": [
      "Warning message in x * y:\n",
      "“longer object length is not a multiple of shorter object length”\n"
     ]
    },
    {
     "data": {
      "text/html": [
       "<style>\n",
       ".list-inline {list-style: none; margin:0; padding: 0}\n",
       ".list-inline>li {display: inline-block}\n",
       ".list-inline>li:not(:last-child)::after {content: \"\\00b7\"; padding: 0 .5ex}\n",
       "</style>\n",
       "<ol class=list-inline><li>1</li><li>8</li><li>21</li><li>40</li><li>5</li><li>24</li><li>49</li><li>80</li><li>9</li><li>40</li></ol>\n"
      ],
      "text/latex": [
       "\\begin{enumerate*}\n",
       "\\item 1\n",
       "\\item 8\n",
       "\\item 21\n",
       "\\item 40\n",
       "\\item 5\n",
       "\\item 24\n",
       "\\item 49\n",
       "\\item 80\n",
       "\\item 9\n",
       "\\item 40\n",
       "\\end{enumerate*}\n"
      ],
      "text/markdown": [
       "1. 1\n",
       "2. 8\n",
       "3. 21\n",
       "4. 40\n",
       "5. 5\n",
       "6. 24\n",
       "7. 49\n",
       "8. 80\n",
       "9. 9\n",
       "10. 40\n",
       "\n",
       "\n"
      ],
      "text/plain": [
       " [1]  1  8 21 40  5 24 49 80  9 40"
      ]
     },
     "metadata": {},
     "output_type": "display_data"
    },
    {
     "name": "stderr",
     "output_type": "stream",
     "text": [
      "Warning message in x - y:\n",
      "“longer object length is not a multiple of shorter object length”\n"
     ]
    },
    {
     "data": {
      "text/html": [
       "<style>\n",
       ".list-inline {list-style: none; margin:0; padding: 0}\n",
       ".list-inline>li {display: inline-block}\n",
       ".list-inline>li:not(:last-child)::after {content: \"\\00b7\"; padding: 0 .5ex}\n",
       "</style>\n",
       "<ol class=list-inline><li>0</li><li>-2</li><li>-4</li><li>-6</li><li>4</li><li>2</li><li>0</li><li>-2</li><li>8</li><li>6</li></ol>\n"
      ],
      "text/latex": [
       "\\begin{enumerate*}\n",
       "\\item 0\n",
       "\\item -2\n",
       "\\item -4\n",
       "\\item -6\n",
       "\\item 4\n",
       "\\item 2\n",
       "\\item 0\n",
       "\\item -2\n",
       "\\item 8\n",
       "\\item 6\n",
       "\\end{enumerate*}\n"
      ],
      "text/markdown": [
       "1. 0\n",
       "2. -2\n",
       "3. -4\n",
       "4. -6\n",
       "5. 4\n",
       "6. 2\n",
       "7. 0\n",
       "8. -2\n",
       "9. 8\n",
       "10. 6\n",
       "\n",
       "\n"
      ],
      "text/plain": [
       " [1]  0 -2 -4 -6  4  2  0 -2  8  6"
      ]
     },
     "metadata": {},
     "output_type": "display_data"
    }
   ],
   "source": [
    "# you can Create any mathematical equation\n",
    "x + y \n",
    "x * y\n",
    "x - y"
   ]
  },
  {
   "cell_type": "code",
   "execution_count": 5,
   "id": "a552b0f3",
   "metadata": {
    "execution": {
     "iopub.execute_input": "2023-10-12T19:29:45.857741Z",
     "iopub.status.busy": "2023-10-12T19:29:45.855731Z",
     "iopub.status.idle": "2023-10-12T19:29:45.889966Z",
     "shell.execute_reply": "2023-10-12T19:29:45.887704Z"
    },
    "papermill": {
     "duration": 0.049854,
     "end_time": "2023-10-12T19:29:45.892674",
     "exception": false,
     "start_time": "2023-10-12T19:29:45.842820",
     "status": "completed"
    },
    "tags": []
   },
   "outputs": [
    {
     "data": {
      "text/html": [
       "<ol>\n",
       "\t<li><style>\n",
       ".list-inline {list-style: none; margin:0; padding: 0}\n",
       ".list-inline>li {display: inline-block}\n",
       ".list-inline>li:not(:last-child)::after {content: \"\\00b7\"; padding: 0 .5ex}\n",
       "</style>\n",
       "<ol class=list-inline><li>1</li><li>2</li><li>3</li><li>4</li><li>5</li><li>6</li><li>7</li><li>8</li><li>9</li><li>10</li></ol>\n",
       "</li>\n",
       "</ol>\n"
      ],
      "text/latex": [
       "\\begin{enumerate}\n",
       "\\item \\begin{enumerate*}\n",
       "\\item 1\n",
       "\\item 2\n",
       "\\item 3\n",
       "\\item 4\n",
       "\\item 5\n",
       "\\item 6\n",
       "\\item 7\n",
       "\\item 8\n",
       "\\item 9\n",
       "\\item 10\n",
       "\\end{enumerate*}\n",
       "\n",
       "\\end{enumerate}\n"
      ],
      "text/markdown": [
       "1. 1. 1\n",
       "2. 2\n",
       "3. 3\n",
       "4. 4\n",
       "5. 5\n",
       "6. 6\n",
       "7. 7\n",
       "8. 8\n",
       "9. 9\n",
       "10. 10\n",
       "\n",
       "\n",
       "\n",
       "\n",
       "\n"
      ],
      "text/plain": [
       "[[1]]\n",
       " [1]  1  2  3  4  5  6  7  8  9 10\n"
      ]
     },
     "metadata": {},
     "output_type": "display_data"
    },
    {
     "data": {
      "text/html": [
       "<ol>\n",
       "\t<li>5</li>\n",
       "\t<li>9</li>\n",
       "\t<li>15</li>\n",
       "\t<li>1</li>\n",
       "</ol>\n"
      ],
      "text/latex": [
       "\\begin{enumerate}\n",
       "\\item 5\n",
       "\\item 9\n",
       "\\item 15\n",
       "\\item 1\n",
       "\\end{enumerate}\n"
      ],
      "text/markdown": [
       "1. 5\n",
       "2. 9\n",
       "3. 15\n",
       "4. 1\n",
       "\n",
       "\n"
      ],
      "text/plain": [
       "[[1]]\n",
       "[1] 5\n",
       "\n",
       "[[2]]\n",
       "[1] 9\n",
       "\n",
       "[[3]]\n",
       "[1] 15\n",
       "\n",
       "[[4]]\n",
       "[1] 1\n"
      ]
     },
     "metadata": {},
     "output_type": "display_data"
    }
   ],
   "source": [
    "# Define the List\n",
    "x <- list (1 : 10)\n",
    "#or\n",
    "y<- list ( 5,9, 15 ,1)\n",
    "x\n",
    "y"
   ]
  },
  {
   "cell_type": "code",
   "execution_count": 6,
   "id": "2a873f12",
   "metadata": {
    "execution": {
     "iopub.execute_input": "2023-10-12T19:29:45.918699Z",
     "iopub.status.busy": "2023-10-12T19:29:45.916885Z",
     "iopub.status.idle": "2023-10-12T19:29:45.998458Z",
     "shell.execute_reply": "2023-10-12T19:29:45.996401Z"
    },
    "papermill": {
     "duration": 0.101689,
     "end_time": "2023-10-12T19:29:46.005448",
     "exception": false,
     "start_time": "2023-10-12T19:29:45.903759",
     "status": "completed"
    },
    "tags": []
   },
   "outputs": [
    {
     "data": {
      "text/html": [
       "<style>\n",
       ".dl-inline {width: auto; margin:0; padding: 0}\n",
       ".dl-inline>dt, .dl-inline>dd {float: none; width: auto; display: inline-block}\n",
       ".dl-inline>dt::after {content: \":\\0020\"; padding-right: .5ex}\n",
       ".dl-inline>dt:not(:first-of-type) {padding-left: .5ex}\n",
       "</style><dl class=dl-inline><dt>F</dt><dd>2</dd><dt>M</dt><dd>3</dd></dl>\n"
      ],
      "text/latex": [
       "\\begin{description*}\n",
       "\\item[F] 2\n",
       "\\item[M] 3\n",
       "\\end{description*}\n"
      ],
      "text/markdown": [
       "F\n",
       ":   2M\n",
       ":   3\n",
       "\n"
      ],
      "text/plain": [
       "F M \n",
       "2 3 "
      ]
     },
     "metadata": {},
     "output_type": "display_data"
    }
   ],
   "source": [
    "# Define the Factors          * using the factor with category data\n",
    "F <- c(\"M\",\"M\",\"F\",\"M\",\"F\")\n",
    "F<-factor(F)\n",
    "summary(F)"
   ]
  },
  {
   "cell_type": "code",
   "execution_count": 7,
   "id": "73e9e1c8",
   "metadata": {
    "execution": {
     "iopub.execute_input": "2023-10-12T19:29:46.035170Z",
     "iopub.status.busy": "2023-10-12T19:29:46.032998Z",
     "iopub.status.idle": "2023-10-12T19:29:46.079568Z",
     "shell.execute_reply": "2023-10-12T19:29:46.077338Z"
    },
    "papermill": {
     "duration": 0.065068,
     "end_time": "2023-10-12T19:29:46.082770",
     "exception": false,
     "start_time": "2023-10-12T19:29:46.017702",
     "status": "completed"
    },
    "tags": []
   },
   "outputs": [
    {
     "data": {
      "text/html": [
       "<style>\n",
       ".list-inline {list-style: none; margin:0; padding: 0}\n",
       ".list-inline>li {display: inline-block}\n",
       ".list-inline>li:not(:last-child)::after {content: \"\\00b7\"; padding: 0 .5ex}\n",
       "</style>\n",
       "<ol class=list-inline><li>10</li><li>5</li><li>7</li><li>15</li><li>7</li></ol>\n"
      ],
      "text/latex": [
       "\\begin{enumerate*}\n",
       "\\item 10\n",
       "\\item 5\n",
       "\\item 7\n",
       "\\item 15\n",
       "\\item 7\n",
       "\\end{enumerate*}\n"
      ],
      "text/markdown": [
       "1. 10\n",
       "2. 5\n",
       "3. 7\n",
       "4. 15\n",
       "5. 7\n",
       "\n",
       "\n"
      ],
      "text/plain": [
       "[1] 10  5  7 15  7"
      ]
     },
     "metadata": {},
     "output_type": "display_data"
    },
    {
     "data": {
      "text/html": [
       "<style>\n",
       ".list-inline {list-style: none; margin:0; padding: 0}\n",
       ".list-inline>li {display: inline-block}\n",
       ".list-inline>li:not(:last-child)::after {content: \"\\00b7\"; padding: 0 .5ex}\n",
       "</style>\n",
       "<ol class=list-inline><li>'A'</li><li>'XX'</li><li>'one'</li></ol>\n"
      ],
      "text/latex": [
       "\\begin{enumerate*}\n",
       "\\item 'A'\n",
       "\\item 'XX'\n",
       "\\item 'one'\n",
       "\\end{enumerate*}\n"
      ],
      "text/markdown": [
       "1. 'A'\n",
       "2. 'XX'\n",
       "3. 'one'\n",
       "\n",
       "\n"
      ],
      "text/plain": [
       "[1] \"A\"   \"XX\"  \"one\""
      ]
     },
     "metadata": {},
     "output_type": "display_data"
    },
    {
     "data": {
      "text/html": [
       "<style>\n",
       ".list-inline {list-style: none; margin:0; padding: 0}\n",
       ".list-inline>li {display: inline-block}\n",
       ".list-inline>li:not(:last-child)::after {content: \"\\00b7\"; padding: 0 .5ex}\n",
       "</style>\n",
       "<ol class=list-inline><li>'10'</li><li>'1.5'</li><li>'Cat'</li><li>'TRUE'</li><li>'5'</li><li>'6'</li><li>'7'</li><li>'8'</li><li>'9'</li></ol>\n"
      ],
      "text/latex": [
       "\\begin{enumerate*}\n",
       "\\item '10'\n",
       "\\item '1.5'\n",
       "\\item 'Cat'\n",
       "\\item 'TRUE'\n",
       "\\item '5'\n",
       "\\item '6'\n",
       "\\item '7'\n",
       "\\item '8'\n",
       "\\item '9'\n",
       "\\end{enumerate*}\n"
      ],
      "text/markdown": [
       "1. '10'\n",
       "2. '1.5'\n",
       "3. 'Cat'\n",
       "4. 'TRUE'\n",
       "5. '5'\n",
       "6. '6'\n",
       "7. '7'\n",
       "8. '8'\n",
       "9. '9'\n",
       "\n",
       "\n"
      ],
      "text/plain": [
       "[1] \"10\"   \"1.5\"  \"Cat\"  \"TRUE\" \"5\"    \"6\"    \"7\"    \"8\"    \"9\"   "
      ]
     },
     "metadata": {},
     "output_type": "display_data"
    }
   ],
   "source": [
    "# How to create a Vectors\n",
    "# A vector can be created using an in-built function in R called c(). Elements must be comma-separated.\n",
    "\n",
    "x <- c(10, 5, 7, 15,7 )       #number\n",
    "y <- c(\"A\",\"XX\",\"one\")        #string\n",
    "z =  c(10, 1.5, \"Cat\", TRUE , seq(5,9))  #you can add any type\n",
    "\n",
    "x\n",
    "y\n",
    "z"
   ]
  },
  {
   "cell_type": "code",
   "execution_count": 8,
   "id": "3f3cc3ad",
   "metadata": {
    "execution": {
     "iopub.execute_input": "2023-10-12T19:29:46.110978Z",
     "iopub.status.busy": "2023-10-12T19:29:46.108795Z",
     "iopub.status.idle": "2023-10-12T19:29:46.161660Z",
     "shell.execute_reply": "2023-10-12T19:29:46.159533Z"
    },
    "papermill": {
     "duration": 0.069794,
     "end_time": "2023-10-12T19:29:46.164608",
     "exception": false,
     "start_time": "2023-10-12T19:29:46.094814",
     "status": "completed"
    },
    "tags": []
   },
   "outputs": [
    {
     "data": {
      "text/html": [
       "<style>\n",
       ".list-inline {list-style: none; margin:0; padding: 0}\n",
       ".list-inline>li {display: inline-block}\n",
       ".list-inline>li:not(:last-child)::after {content: \"\\00b7\"; padding: 0 .5ex}\n",
       "</style>\n",
       "<ol class=list-inline><li>1</li><li>5</li><li>5</li><li>7</li><li>7</li><li>10</li><li>15</li></ol>\n"
      ],
      "text/latex": [
       "\\begin{enumerate*}\n",
       "\\item 1\n",
       "\\item 5\n",
       "\\item 5\n",
       "\\item 7\n",
       "\\item 7\n",
       "\\item 10\n",
       "\\item 15\n",
       "\\end{enumerate*}\n"
      ],
      "text/markdown": [
       "1. 1\n",
       "2. 5\n",
       "3. 5\n",
       "4. 7\n",
       "5. 7\n",
       "6. 10\n",
       "7. 15\n",
       "\n",
       "\n"
      ],
      "text/plain": [
       "[1]  1  5  5  7  7 10 15"
      ]
     },
     "metadata": {},
     "output_type": "display_data"
    },
    {
     "data": {
      "text/html": [
       "7.14285714285714"
      ],
      "text/latex": [
       "7.14285714285714"
      ],
      "text/markdown": [
       "7.14285714285714"
      ],
      "text/plain": [
       "[1] 7.142857"
      ]
     },
     "metadata": {},
     "output_type": "display_data"
    },
    {
     "data": {
      "text/html": [
       "15"
      ],
      "text/latex": [
       "15"
      ],
      "text/markdown": [
       "15"
      ],
      "text/plain": [
       "[1] 15"
      ]
     },
     "metadata": {},
     "output_type": "display_data"
    },
    {
     "data": {
      "text/html": [
       "1"
      ],
      "text/latex": [
       "1"
      ],
      "text/markdown": [
       "1"
      ],
      "text/plain": [
       "[1] 1"
      ]
     },
     "metadata": {},
     "output_type": "display_data"
    }
   ],
   "source": [
    "# sum, sort, mean, ...\n",
    "\n",
    "R <- c(10, 5, 7, 15,7,1,5 )\n",
    "sort( R)  # sort the emelent\n",
    "mean( R)  # the average \n",
    "max (R)   # the maximum\n",
    "min (R)   # the minimum  "
   ]
  },
  {
   "cell_type": "code",
   "execution_count": 9,
   "id": "1d55f76d",
   "metadata": {
    "execution": {
     "iopub.execute_input": "2023-10-12T19:29:46.193931Z",
     "iopub.status.busy": "2023-10-12T19:29:46.191832Z",
     "iopub.status.idle": "2023-10-12T19:29:46.241556Z",
     "shell.execute_reply": "2023-10-12T19:29:46.239364Z"
    },
    "papermill": {
     "duration": 0.068252,
     "end_time": "2023-10-12T19:29:46.244659",
     "exception": false,
     "start_time": "2023-10-12T19:29:46.176407",
     "status": "completed"
    },
    "tags": []
   },
   "outputs": [
    {
     "data": {
      "text/html": [
       "<table class=\"dataframe\">\n",
       "<caption>A matrix: 4 × 5 of type int</caption>\n",
       "<thead>\n",
       "\t<tr><th></th><th scope=col>col 1</th><th scope=col>col 2</th><th scope=col>col 3</th><th scope=col>col 4</th><th scope=col>col 5</th></tr>\n",
       "</thead>\n",
       "<tbody>\n",
       "\t<tr><th scope=row>A</th><td> 1</td><td> 2</td><td> 3</td><td> 4</td><td> 5</td></tr>\n",
       "\t<tr><th scope=row>B</th><td> 6</td><td> 7</td><td> 8</td><td> 9</td><td>10</td></tr>\n",
       "\t<tr><th scope=row>C</th><td>11</td><td>12</td><td>13</td><td>14</td><td>15</td></tr>\n",
       "\t<tr><th scope=row>P</th><td>16</td><td>17</td><td>18</td><td>19</td><td>20</td></tr>\n",
       "</tbody>\n",
       "</table>\n"
      ],
      "text/latex": [
       "A matrix: 4 × 5 of type int\n",
       "\\begin{tabular}{r|lllll}\n",
       "  & col 1 & col 2 & col 3 & col 4 & col 5\\\\\n",
       "\\hline\n",
       "\tA &  1 &  2 &  3 &  4 &  5\\\\\n",
       "\tB &  6 &  7 &  8 &  9 & 10\\\\\n",
       "\tC & 11 & 12 & 13 & 14 & 15\\\\\n",
       "\tP & 16 & 17 & 18 & 19 & 20\\\\\n",
       "\\end{tabular}\n"
      ],
      "text/markdown": [
       "\n",
       "A matrix: 4 × 5 of type int\n",
       "\n",
       "| <!--/--> | col 1 | col 2 | col 3 | col 4 | col 5 |\n",
       "|---|---|---|---|---|---|\n",
       "| A |  1 |  2 |  3 |  4 |  5 |\n",
       "| B |  6 |  7 |  8 |  9 | 10 |\n",
       "| C | 11 | 12 | 13 | 14 | 15 |\n",
       "| P | 16 | 17 | 18 | 19 | 20 |\n",
       "\n"
      ],
      "text/plain": [
       "  col 1 col 2 col 3 col 4 col 5\n",
       "A  1     2     3     4     5   \n",
       "B  6     7     8     9    10   \n",
       "C 11    12    13    14    15   \n",
       "P 16    17    18    19    20   "
      ]
     },
     "metadata": {},
     "output_type": "display_data"
    }
   ],
   "source": [
    "#To create a matrix in R you need to use the function called matrix()\n",
    "#The arguments to this       =  matrix(data, number of rows, number of columns ,filling by row, dimnames = Column headers )\n",
    "\n",
    "row <- c('A','B','C','P')  # you can writing any name\n",
    "col <- c ('col 1', 'col 2', 'col 3','col 4','col 5') # you can writing any name\n",
    "\n",
    "Mat <- matrix(c(1:20), nrow= 4, ncol =5 , byrow = T , dimnames =list(row,col))\n",
    "\n",
    "Mat"
   ]
  },
  {
   "cell_type": "code",
   "execution_count": 10,
   "id": "9c4abe43",
   "metadata": {
    "execution": {
     "iopub.execute_input": "2023-10-12T19:29:46.276118Z",
     "iopub.status.busy": "2023-10-12T19:29:46.274081Z",
     "iopub.status.idle": "2023-10-12T19:29:46.313415Z",
     "shell.execute_reply": "2023-10-12T19:29:46.311226Z"
    },
    "papermill": {
     "duration": 0.058729,
     "end_time": "2023-10-12T19:29:46.316522",
     "exception": false,
     "start_time": "2023-10-12T19:29:46.257793",
     "status": "completed"
    },
    "tags": []
   },
   "outputs": [
    {
     "data": {
      "text/html": [
       "12"
      ],
      "text/latex": [
       "12"
      ],
      "text/markdown": [
       "12"
      ],
      "text/plain": [
       "[1] 12"
      ]
     },
     "metadata": {},
     "output_type": "display_data"
    },
    {
     "data": {
      "text/html": [
       "<table class=\"dataframe\">\n",
       "<caption>A matrix: 4 × 5 of type dbl</caption>\n",
       "<thead>\n",
       "\t<tr><th></th><th scope=col>col 1</th><th scope=col>col 2</th><th scope=col>col 3</th><th scope=col>col 4</th><th scope=col>col 5</th></tr>\n",
       "</thead>\n",
       "<tbody>\n",
       "\t<tr><th scope=row>A</th><td> 1</td><td> 2</td><td> 3</td><td> 4</td><td>  5</td></tr>\n",
       "\t<tr><th scope=row>B</th><td> 6</td><td> 7</td><td> 8</td><td> 9</td><td>100</td></tr>\n",
       "\t<tr><th scope=row>C</th><td>11</td><td>12</td><td>13</td><td>14</td><td> 15</td></tr>\n",
       "\t<tr><th scope=row>P</th><td>16</td><td>17</td><td>18</td><td>19</td><td> 20</td></tr>\n",
       "</tbody>\n",
       "</table>\n"
      ],
      "text/latex": [
       "A matrix: 4 × 5 of type dbl\n",
       "\\begin{tabular}{r|lllll}\n",
       "  & col 1 & col 2 & col 3 & col 4 & col 5\\\\\n",
       "\\hline\n",
       "\tA &  1 &  2 &  3 &  4 &   5\\\\\n",
       "\tB &  6 &  7 &  8 &  9 & 100\\\\\n",
       "\tC & 11 & 12 & 13 & 14 &  15\\\\\n",
       "\tP & 16 & 17 & 18 & 19 &  20\\\\\n",
       "\\end{tabular}\n"
      ],
      "text/markdown": [
       "\n",
       "A matrix: 4 × 5 of type dbl\n",
       "\n",
       "| <!--/--> | col 1 | col 2 | col 3 | col 4 | col 5 |\n",
       "|---|---|---|---|---|---|\n",
       "| A |  1 |  2 |  3 |  4 |   5 |\n",
       "| B |  6 |  7 |  8 |  9 | 100 |\n",
       "| C | 11 | 12 | 13 | 14 |  15 |\n",
       "| P | 16 | 17 | 18 | 19 |  20 |\n",
       "\n"
      ],
      "text/plain": [
       "  col 1 col 2 col 3 col 4 col 5\n",
       "A  1     2     3     4      5  \n",
       "B  6     7     8     9    100  \n",
       "C 11    12    13    14     15  \n",
       "P 16    17    18    19     20  "
      ]
     },
     "metadata": {},
     "output_type": "display_data"
    }
   ],
   "source": [
    "# select the element in the matrix / just choice the index [ row index , column index ]\n",
    "\n",
    "Mat[ 3,2]\n",
    "\n",
    "Mat[ 2,5] = 100 # you can change the number inside the matrix just choice the index\n",
    "Mat"
   ]
  },
  {
   "cell_type": "code",
   "execution_count": 11,
   "id": "ed82537b",
   "metadata": {
    "execution": {
     "iopub.execute_input": "2023-10-12T19:29:46.347696Z",
     "iopub.status.busy": "2023-10-12T19:29:46.345612Z",
     "iopub.status.idle": "2023-10-12T19:29:46.378530Z",
     "shell.execute_reply": "2023-10-12T19:29:46.375759Z"
    },
    "papermill": {
     "duration": 0.052593,
     "end_time": "2023-10-12T19:29:46.382368",
     "exception": false,
     "start_time": "2023-10-12T19:29:46.329775",
     "status": "completed"
    },
    "tags": []
   },
   "outputs": [
    {
     "name": "stdout",
     "output_type": "stream",
     "text": [
      "[1] \"Good\"\n"
     ]
    }
   ],
   "source": [
    "# IF statement \n",
    "M <- 75\n",
    "\n",
    "if (M >= 50){                 # you can writing  if like = if(x>=90 && x<100 ) ...\n",
    "    print (\"Good\")\n",
    "}else {                      \n",
    "    print (\"Bad\")\n",
    "}"
   ]
  },
  {
   "cell_type": "code",
   "execution_count": 12,
   "id": "1c55986b",
   "metadata": {
    "execution": {
     "iopub.execute_input": "2023-10-12T19:29:46.412665Z",
     "iopub.status.busy": "2023-10-12T19:29:46.410668Z",
     "iopub.status.idle": "2023-10-12T19:29:46.440183Z",
     "shell.execute_reply": "2023-10-12T19:29:46.437506Z"
    },
    "papermill": {
     "duration": 0.048849,
     "end_time": "2023-10-12T19:29:46.444028",
     "exception": false,
     "start_time": "2023-10-12T19:29:46.395179",
     "status": "completed"
    },
    "tags": []
   },
   "outputs": [
    {
     "name": "stdout",
     "output_type": "stream",
     "text": [
      "[1] 1\n",
      "[1] 5\n",
      "[1] 9\n"
     ]
    }
   ],
   "source": [
    "# while Loop\n",
    "L =1\n",
    "while (L<10){\n",
    "    print (L)\n",
    "    L<- L+4\n",
    "}                 # using this loop I can writing if statement and for loop inside this loop"
   ]
  },
  {
   "cell_type": "code",
   "execution_count": 13,
   "id": "eccb0d0f",
   "metadata": {
    "execution": {
     "iopub.execute_input": "2023-10-12T19:29:46.474121Z",
     "iopub.status.busy": "2023-10-12T19:29:46.472258Z",
     "iopub.status.idle": "2023-10-12T19:29:46.499303Z",
     "shell.execute_reply": "2023-10-12T19:29:46.497237Z"
    },
    "papermill": {
     "duration": 0.045426,
     "end_time": "2023-10-12T19:29:46.502123",
     "exception": false,
     "start_time": "2023-10-12T19:29:46.456697",
     "status": "completed"
    },
    "tags": []
   },
   "outputs": [
    {
     "name": "stdout",
     "output_type": "stream",
     "text": [
      "[1] 1\n",
      "[1] 2\n",
      "[1] 3\n",
      "[1] 4\n",
      "[1] 5\n",
      "[1] 6\n",
      "[1] 7\n",
      "[1] 8\n",
      "[1] 9\n",
      "[1] 10\n"
     ]
    }
   ],
   "source": [
    "# for loop\n",
    "for (i in 1:10)    # this loop print from range 1 to 10 \n",
    "    print (i)"
   ]
  },
  {
   "cell_type": "code",
   "execution_count": 14,
   "id": "cc4d20fe",
   "metadata": {
    "execution": {
     "iopub.execute_input": "2023-10-12T19:29:46.533092Z",
     "iopub.status.busy": "2023-10-12T19:29:46.530563Z",
     "iopub.status.idle": "2023-10-12T19:29:46.553218Z",
     "shell.execute_reply": "2023-10-12T19:29:46.551266Z"
    },
    "papermill": {
     "duration": 0.040986,
     "end_time": "2023-10-12T19:29:46.556153",
     "exception": false,
     "start_time": "2023-10-12T19:29:46.515167",
     "status": "completed"
    },
    "tags": []
   },
   "outputs": [
    {
     "data": {
      "text/html": [
       "500"
      ],
      "text/latex": [
       "500"
      ],
      "text/markdown": [
       "500"
      ],
      "text/plain": [
       "[1] 500"
      ]
     },
     "metadata": {},
     "output_type": "display_data"
    }
   ],
   "source": [
    "# Define the Funvtion\n",
    "# name on function <- writing function (here the arrgumnet) { here the body function  with retuen} \n",
    "\n",
    "Fun <- function (y ){\n",
    "    return (y * 50 )   # you can writing a lot of things here, for loop or if ...\n",
    "}\n",
    "Fun(10) # 10 this = y"
   ]
  },
  {
   "cell_type": "markdown",
   "id": "ee9ae222",
   "metadata": {
    "papermill": {
     "duration": 0.013679,
     "end_time": "2023-10-12T19:29:46.587008",
     "exception": false,
     "start_time": "2023-10-12T19:29:46.573329",
     "status": "completed"
    },
    "tags": []
   },
   "source": [
    "# **Import Data Set**"
   ]
  },
  {
   "cell_type": "code",
   "execution_count": 15,
   "id": "221a882d",
   "metadata": {
    "execution": {
     "iopub.execute_input": "2023-10-12T19:29:46.618066Z",
     "iopub.status.busy": "2023-10-12T19:29:46.616416Z",
     "iopub.status.idle": "2023-10-12T19:29:46.702705Z",
     "shell.execute_reply": "2023-10-12T19:29:46.700506Z"
    },
    "papermill": {
     "duration": 0.105715,
     "end_time": "2023-10-12T19:29:46.705980",
     "exception": false,
     "start_time": "2023-10-12T19:29:46.600265",
     "status": "completed"
    },
    "tags": []
   },
   "outputs": [],
   "source": [
    "# Import Data \n",
    "# You can Import data from multiple sources / excel, csv, sql, web page, spss ,...\n",
    "# you can join more the 2 table using function inner_join or left_join, right_join \n",
    "\n",
    "df = read.csv('/kaggle/input/task-sales/Task-1.csv') # now, import from CSV , first uploud the file in Jupyter then writing read.csv"
   ]
  },
  {
   "cell_type": "code",
   "execution_count": 16,
   "id": "a3bdc5d1",
   "metadata": {
    "execution": {
     "iopub.execute_input": "2023-10-12T19:29:46.736602Z",
     "iopub.status.busy": "2023-10-12T19:29:46.734840Z",
     "iopub.status.idle": "2023-10-12T19:29:46.883783Z",
     "shell.execute_reply": "2023-10-12T19:29:46.880641Z"
    },
    "papermill": {
     "duration": 0.168089,
     "end_time": "2023-10-12T19:29:46.887176",
     "exception": false,
     "start_time": "2023-10-12T19:29:46.719087",
     "status": "completed"
    },
    "tags": []
   },
   "outputs": [
    {
     "data": {
      "text/html": [
       "<table class=\"dataframe\">\n",
       "<caption>A data.frame: 9648 × 12</caption>\n",
       "<thead>\n",
       "\t<tr><th scope=col>Retailer</th><th scope=col>Retailer.ID</th><th scope=col>Invoice.Date</th><th scope=col>Region</th><th scope=col>State</th><th scope=col>City</th><th scope=col>Product</th><th scope=col>Price.per.Unit</th><th scope=col>Units.Sold</th><th scope=col>Total.Sales</th><th scope=col>Operating.Profit</th><th scope=col>Sales.Method</th></tr>\n",
       "\t<tr><th scope=col>&lt;chr&gt;</th><th scope=col>&lt;int&gt;</th><th scope=col>&lt;chr&gt;</th><th scope=col>&lt;chr&gt;</th><th scope=col>&lt;chr&gt;</th><th scope=col>&lt;chr&gt;</th><th scope=col>&lt;chr&gt;</th><th scope=col>&lt;int&gt;</th><th scope=col>&lt;int&gt;</th><th scope=col>&lt;int&gt;</th><th scope=col>&lt;int&gt;</th><th scope=col>&lt;chr&gt;</th></tr>\n",
       "</thead>\n",
       "<tbody>\n",
       "\t<tr><td>Foot Locker</td><td>1185732</td><td>01-01-20</td><td>Northeast</td><td>New York</td><td>New York</td><td>Men's Street Footwear    </td><td>50</td><td>1200</td><td>60000</td><td>30000</td><td>In-store</td></tr>\n",
       "\t<tr><td>Foot Locker</td><td>1185732</td><td>02-01-20</td><td>Northeast</td><td>New York</td><td>New York</td><td>Men's Athletic Footwear  </td><td>50</td><td>1000</td><td>50000</td><td>15000</td><td>In-store</td></tr>\n",
       "\t<tr><td>Foot Locker</td><td>1185732</td><td>03-01-20</td><td>Northeast</td><td>New York</td><td>New York</td><td>Women's Street Footwear  </td><td>40</td><td>1000</td><td>40000</td><td>14000</td><td>In-store</td></tr>\n",
       "\t<tr><td>Foot Locker</td><td>1185732</td><td>04-01-20</td><td>Northeast</td><td>New York</td><td>New York</td><td>Women's Athletic Footwear</td><td>45</td><td> 850</td><td>38250</td><td>13388</td><td>In-store</td></tr>\n",
       "\t<tr><td>Foot Locker</td><td>1185732</td><td>05-01-20</td><td>Northeast</td><td>New York</td><td>New York</td><td>Men's Apparel            </td><td>60</td><td> 900</td><td>54000</td><td>16200</td><td>In-store</td></tr>\n",
       "\t<tr><td>Foot Locker</td><td>1185732</td><td>06-01-20</td><td>Northeast</td><td>New York</td><td>New York</td><td>Women's Apparel          </td><td>50</td><td>1000</td><td>50000</td><td>12500</td><td>In-store</td></tr>\n",
       "\t<tr><td>Foot Locker</td><td>1185732</td><td>07-01-20</td><td>Northeast</td><td>New York</td><td>New York</td><td>Men's Street Footwear    </td><td>50</td><td>1250</td><td>62500</td><td>31250</td><td>In-store</td></tr>\n",
       "\t<tr><td>Foot Locker</td><td>1185732</td><td>08-01-20</td><td>Northeast</td><td>New York</td><td>New York</td><td>Men's Athletic Footwear  </td><td>50</td><td> 900</td><td>45000</td><td>13500</td><td>Outlet  </td></tr>\n",
       "\t<tr><td>Foot Locker</td><td>1185732</td><td>21-01-20</td><td>Northeast</td><td>New York</td><td>New York</td><td>Women's Street Footwear  </td><td>40</td><td> 950</td><td>38000</td><td>13300</td><td>Outlet  </td></tr>\n",
       "\t<tr><td>Foot Locker</td><td>1185732</td><td>22-01-20</td><td>Northeast</td><td>New York</td><td>New York</td><td>Women's Athletic Footwear</td><td>45</td><td> 825</td><td>37125</td><td>12994</td><td>Outlet  </td></tr>\n",
       "\t<tr><td>Foot Locker</td><td>1185732</td><td>23-01-20</td><td>Northeast</td><td>New York</td><td>New York</td><td>Men's Apparel            </td><td>60</td><td> 900</td><td>54000</td><td>16200</td><td>Outlet  </td></tr>\n",
       "\t<tr><td>Foot Locker</td><td>1185732</td><td>24-01-20</td><td>Northeast</td><td>New York</td><td>New York</td><td>Women's Apparel          </td><td>50</td><td>1000</td><td>50000</td><td>12500</td><td>Outlet  </td></tr>\n",
       "\t<tr><td>Foot Locker</td><td>1185732</td><td>25-01-20</td><td>Northeast</td><td>New York</td><td>New York</td><td>Men's Street Footwear    </td><td>50</td><td>1220</td><td>61000</td><td>30500</td><td>Outlet  </td></tr>\n",
       "\t<tr><td>Foot Locker</td><td>1185732</td><td>26-01-20</td><td>Northeast</td><td>New York</td><td>New York</td><td>Men's Athletic Footwear  </td><td>50</td><td> 925</td><td>46250</td><td>13875</td><td>Outlet  </td></tr>\n",
       "\t<tr><td>Foot Locker</td><td>1185732</td><td>27-01-20</td><td>Northeast</td><td>New York</td><td>New York</td><td>Women's Street Footwear  </td><td>40</td><td> 950</td><td>38000</td><td>13300</td><td>Outlet  </td></tr>\n",
       "\t<tr><td>Foot Locker</td><td>1185732</td><td>28-01-20</td><td>Northeast</td><td>New York</td><td>New York</td><td>Women's Athletic Footwear</td><td>45</td><td> 800</td><td>36000</td><td>12600</td><td>Outlet  </td></tr>\n",
       "\t<tr><td>Foot Locker</td><td>1185732</td><td>29-01-20</td><td>Northeast</td><td>New York</td><td>New York</td><td>Men's Apparel            </td><td>NA</td><td> 850</td><td>51000</td><td>15300</td><td>Outlet  </td></tr>\n",
       "\t<tr><td>Foot Locker</td><td>1185732</td><td>30-01-20</td><td>Northeast</td><td>New York</td><td>New York</td><td>Women's Apparel          </td><td>50</td><td> 950</td><td>47500</td><td>11875</td><td>Outlet  </td></tr>\n",
       "\t<tr><td>Foot Locker</td><td>1185732</td><td>31-01-20</td><td>Northeast</td><td>New York</td><td>New York</td><td>Men's Street Footwear    </td><td>50</td><td>1200</td><td>60000</td><td>30000</td><td>Outlet  </td></tr>\n",
       "\t<tr><td>Foot Locker</td><td>1185732</td><td>01-02-20</td><td>Northeast</td><td>New York</td><td>New York</td><td>Men's Athletic Footwear  </td><td>50</td><td> 900</td><td>45000</td><td>13500</td><td>Outlet  </td></tr>\n",
       "\t<tr><td>Foot Locker</td><td>1185732</td><td>02-02-20</td><td>Northeast</td><td>New York</td><td>New York</td><td>Women's Street Footwear  </td><td>40</td><td> 900</td><td>36000</td><td>12600</td><td>Outlet  </td></tr>\n",
       "\t<tr><td>Foot Locker</td><td>1185732</td><td>03-02-20</td><td>Northeast</td><td>New York</td><td>New York</td><td>Women's Athletic Footwear</td><td>45</td><td> 825</td><td>37125</td><td>12994</td><td>Outlet  </td></tr>\n",
       "\t<tr><td>Foot Locker</td><td>1185732</td><td>04-02-20</td><td>Northeast</td><td>New York</td><td>New York</td><td>Men's Apparel            </td><td>60</td><td> 825</td><td>49500</td><td>14850</td><td>Outlet  </td></tr>\n",
       "\t<tr><td>Foot Locker</td><td>1185732</td><td>05-02-20</td><td>Northeast</td><td>New York</td><td>New York</td><td>Women's Apparel          </td><td>50</td><td> 950</td><td>47500</td><td>11875</td><td>Outlet  </td></tr>\n",
       "\t<tr><td>Foot Locker</td><td>1185732</td><td>06-02-20</td><td>Northeast</td><td>New York</td><td>New York</td><td>Men's Street Footwear    </td><td>60</td><td>1220</td><td>73200</td><td>36600</td><td>Outlet  </td></tr>\n",
       "\t<tr><td>Foot Locker</td><td>1185732</td><td>07-02-20</td><td>Northeast</td><td>New York</td><td>New York</td><td>Men's Athletic Footwear  </td><td>55</td><td> 925</td><td>50875</td><td>15263</td><td>Outlet  </td></tr>\n",
       "\t<tr><td>Foot Locker</td><td>1185732</td><td>08-02-20</td><td>Northeast</td><td>New York</td><td>New York</td><td>Women's Street Footwear  </td><td>50</td><td> 900</td><td>45000</td><td>15750</td><td>Outlet  </td></tr>\n",
       "\t<tr><td>Foot Locker</td><td>1185732</td><td>09-02-20</td><td>Northeast</td><td>New York</td><td>New York</td><td>Women's Athletic Footwear</td><td>50</td><td> 850</td><td>42500</td><td>14875</td><td>Outlet  </td></tr>\n",
       "\t<tr><td>Foot Locker</td><td>1185732</td><td>10-02-20</td><td>Northeast</td><td>New York</td><td>New York</td><td>Men's Apparel            </td><td>60</td><td> 875</td><td>52500</td><td>15750</td><td>Outlet  </td></tr>\n",
       "\t<tr><td>Foot Locker</td><td>1185732</td><td>03-03-20</td><td>Northeast</td><td>New York</td><td>New York</td><td>Women's Apparel          </td><td>65</td><td>1000</td><td>65000</td><td>16250</td><td>Outlet  </td></tr>\n",
       "\t<tr><td>⋮</td><td>⋮</td><td>⋮</td><td>⋮</td><td>⋮</td><td>⋮</td><td>⋮</td><td>⋮</td><td>⋮</td><td>⋮</td><td>⋮</td><td>⋮</td></tr>\n",
       "\t<tr><td>Amazon     </td><td>1185732</td><td>17-09-21</td><td>Northeast</td><td>New Hampshire</td><td>Manchester</td><td>Women's Athletic Footwear</td><td>41</td><td> 74</td><td>303</td><td>112</td><td>Outlet</td></tr>\n",
       "\t<tr><td>Amazon     </td><td>1185732</td><td>17-09-21</td><td>Northeast</td><td>New Hampshire</td><td>Manchester</td><td>Men's Apparel            </td><td>48</td><td> 70</td><td>336</td><td>121</td><td>Outlet</td></tr>\n",
       "\t<tr><td>Amazon     </td><td>1185732</td><td>17-09-21</td><td>Northeast</td><td>New Hampshire</td><td>Manchester</td><td>Women's Apparel          </td><td>53</td><td>104</td><td>551</td><td>204</td><td>Outlet</td></tr>\n",
       "\t<tr><td>Foot Locker</td><td>1185732</td><td>19-10-21</td><td>Northeast</td><td>New Hampshire</td><td>Manchester</td><td>Men's Street Footwear    </td><td>52</td><td>162</td><td>842</td><td>354</td><td>Outlet</td></tr>\n",
       "\t<tr><td>Foot Locker</td><td>1185732</td><td>19-10-21</td><td>Northeast</td><td>New Hampshire</td><td>Manchester</td><td>Men's Athletic Footwear  </td><td>44</td><td> 99</td><td>436</td><td>192</td><td>Outlet</td></tr>\n",
       "\t<tr><td>Foot Locker</td><td>1185732</td><td>19-10-21</td><td>Northeast</td><td>New Hampshire</td><td>Manchester</td><td>Women's Street Footwear  </td><td>52</td><td> 60</td><td>312</td><td>103</td><td>Outlet</td></tr>\n",
       "\t<tr><td>Foot Locker</td><td>1185732</td><td>19-10-21</td><td>Northeast</td><td>New Hampshire</td><td>Manchester</td><td>Women's Athletic Footwear</td><td>44</td><td> 61</td><td>268</td><td> 86</td><td>Outlet</td></tr>\n",
       "\t<tr><td>Foot Locker</td><td>1185732</td><td>19-10-21</td><td>Northeast</td><td>New Hampshire</td><td>Manchester</td><td>Men's Apparel            </td><td>50</td><td> 58</td><td>290</td><td> 93</td><td>Outlet</td></tr>\n",
       "\t<tr><td>Foot Locker</td><td>1185732</td><td>19-10-21</td><td>Northeast</td><td>New Hampshire</td><td>Manchester</td><td>Women's Apparel          </td><td>64</td><td> 90</td><td>576</td><td>225</td><td>Outlet</td></tr>\n",
       "\t<tr><td>Foot Locker</td><td>1185732</td><td>18-11-21</td><td>Northeast</td><td>New Hampshire</td><td>Manchester</td><td>Men's Street Footwear    </td><td>59</td><td>149</td><td>879</td><td>378</td><td>Outlet</td></tr>\n",
       "\t<tr><td>Foot Locker</td><td>1185732</td><td>18-11-21</td><td>Northeast</td><td>New Hampshire</td><td>Manchester</td><td>Men's Athletic Footwear  </td><td>42</td><td>114</td><td>479</td><td>206</td><td>Outlet</td></tr>\n",
       "\t<tr><td>Foot Locker</td><td>1185732</td><td>18-11-21</td><td>Northeast</td><td>New Hampshire</td><td>Manchester</td><td>Women's Street Footwear  </td><td>51</td><td>114</td><td>581</td><td>203</td><td>Outlet</td></tr>\n",
       "\t<tr><td>Foot Locker</td><td>1185732</td><td>18-11-21</td><td>Northeast</td><td>New Hampshire</td><td>Manchester</td><td>Women's Athletic Footwear</td><td>43</td><td>114</td><td>490</td><td>167</td><td>Outlet</td></tr>\n",
       "\t<tr><td>Foot Locker</td><td>1185732</td><td>18-11-21</td><td>Northeast</td><td>New Hampshire</td><td>Manchester</td><td>Men's Apparel            </td><td>59</td><td> 96</td><td>566</td><td>193</td><td>Outlet</td></tr>\n",
       "\t<tr><td>Foot Locker</td><td>1185732</td><td>18-11-21</td><td>Northeast</td><td>New Hampshire</td><td>Manchester</td><td>Women's Apparel          </td><td>61</td><td>120</td><td>732</td><td>300</td><td>Outlet</td></tr>\n",
       "\t<tr><td>Foot Locker</td><td>1185732</td><td>17-12-21</td><td>Northeast</td><td>New Hampshire</td><td>Manchester</td><td>Men's Street Footwear    </td><td>49</td><td>200</td><td>980</td><td>461</td><td>Outlet</td></tr>\n",
       "\t<tr><td>Foot Locker</td><td>1185732</td><td>17-12-21</td><td>Northeast</td><td>New Hampshire</td><td>Manchester</td><td>Men's Athletic Footwear  </td><td>49</td><td>128</td><td>627</td><td>263</td><td>Outlet</td></tr>\n",
       "\t<tr><td>Foot Locker</td><td>1185732</td><td>17-12-21</td><td>Northeast</td><td>New Hampshire</td><td>Manchester</td><td>Women's Street Footwear  </td><td>47</td><td>128</td><td>602</td><td>217</td><td>Outlet</td></tr>\n",
       "\t<tr><td>Foot Locker</td><td>1185732</td><td>17-12-21</td><td>Northeast</td><td>New Hampshire</td><td>Manchester</td><td>Women's Athletic Footwear</td><td>49</td><td>116</td><td>568</td><td>199</td><td>Outlet</td></tr>\n",
       "\t<tr><td>Foot Locker</td><td>1185732</td><td>17-12-21</td><td>Northeast</td><td>New Hampshire</td><td>Manchester</td><td>Men's Apparel            </td><td>50</td><td>123</td><td>615</td><td>228</td><td>Outlet</td></tr>\n",
       "\t<tr><td>Foot Locker</td><td>1185732</td><td>17-12-21</td><td>Northeast</td><td>New Hampshire</td><td>Manchester</td><td>Women's Apparel          </td><td>61</td><td>144</td><td>878</td><td>351</td><td>Outlet</td></tr>\n",
       "\t<tr><td>Foot Locker</td><td>1185732</td><td>24-01-21</td><td>Northeast</td><td>New Hampshire</td><td>Manchester</td><td>Men's Street Footwear    </td><td>36</td><td>165</td><td>594</td><td>220</td><td>Outlet</td></tr>\n",
       "\t<tr><td>Foot Locker</td><td>1185732</td><td>24-01-21</td><td>Northeast</td><td>New Hampshire</td><td>Manchester</td><td>Men's Athletic Footwear  </td><td>36</td><td> 93</td><td>335</td><td>134</td><td>Outlet</td></tr>\n",
       "\t<tr><td>Foot Locker</td><td>1185732</td><td>24-01-21</td><td>Northeast</td><td>New Hampshire</td><td>Manchester</td><td>Women's Street Footwear  </td><td>35</td><td> 99</td><td>347</td><td> 94</td><td>Outlet</td></tr>\n",
       "\t<tr><td>Foot Locker</td><td>1185732</td><td>24-01-21</td><td>Northeast</td><td>New Hampshire</td><td>Manchester</td><td>Women's Athletic Footwear</td><td>33</td><td> 51</td><td>168</td><td> 47</td><td>Outlet</td></tr>\n",
       "\t<tr><td>Foot Locker</td><td>1185732</td><td>24-01-21</td><td>Northeast</td><td>New Hampshire</td><td>Manchester</td><td>Men's Apparel            </td><td>50</td><td> 64</td><td>320</td><td> 90</td><td>Outlet</td></tr>\n",
       "\t<tr><td>Foot Locker</td><td>1185732</td><td>24-01-21</td><td>Northeast</td><td>New Hampshire</td><td>Manchester</td><td>Women's Apparel          </td><td>41</td><td>105</td><td>431</td><td>138</td><td>Outlet</td></tr>\n",
       "\t<tr><td>Foot Locker</td><td>1185732</td><td>22-02-21</td><td>Northeast</td><td>New Hampshire</td><td>Manchester</td><td>Men's Street Footwear    </td><td>41</td><td>184</td><td>754</td><td>279</td><td>Outlet</td></tr>\n",
       "\t<tr><td>Foot Locker</td><td>1185732</td><td>22-02-21</td><td>Northeast</td><td>New Hampshire</td><td>Manchester</td><td>Men's Athletic Footwear  </td><td>42</td><td> 70</td><td>294</td><td>123</td><td>Outlet</td></tr>\n",
       "\t<tr><td>Foot Locker</td><td>1185732</td><td>22-02-21</td><td>Northeast</td><td>New Hampshire</td><td>Manchester</td><td>Women's Street Footwear  </td><td>29</td><td> 83</td><td>241</td><td> 65</td><td>Outlet</td></tr>\n",
       "</tbody>\n",
       "</table>\n"
      ],
      "text/latex": [
       "A data.frame: 9648 × 12\n",
       "\\begin{tabular}{llllllllllll}\n",
       " Retailer & Retailer.ID & Invoice.Date & Region & State & City & Product & Price.per.Unit & Units.Sold & Total.Sales & Operating.Profit & Sales.Method\\\\\n",
       " <chr> & <int> & <chr> & <chr> & <chr> & <chr> & <chr> & <int> & <int> & <int> & <int> & <chr>\\\\\n",
       "\\hline\n",
       "\t Foot Locker & 1185732 & 01-01-20 & Northeast & New York & New York & Men's Street Footwear     & 50 & 1200 & 60000 & 30000 & In-store\\\\\n",
       "\t Foot Locker & 1185732 & 02-01-20 & Northeast & New York & New York & Men's Athletic Footwear   & 50 & 1000 & 50000 & 15000 & In-store\\\\\n",
       "\t Foot Locker & 1185732 & 03-01-20 & Northeast & New York & New York & Women's Street Footwear   & 40 & 1000 & 40000 & 14000 & In-store\\\\\n",
       "\t Foot Locker & 1185732 & 04-01-20 & Northeast & New York & New York & Women's Athletic Footwear & 45 &  850 & 38250 & 13388 & In-store\\\\\n",
       "\t Foot Locker & 1185732 & 05-01-20 & Northeast & New York & New York & Men's Apparel             & 60 &  900 & 54000 & 16200 & In-store\\\\\n",
       "\t Foot Locker & 1185732 & 06-01-20 & Northeast & New York & New York & Women's Apparel           & 50 & 1000 & 50000 & 12500 & In-store\\\\\n",
       "\t Foot Locker & 1185732 & 07-01-20 & Northeast & New York & New York & Men's Street Footwear     & 50 & 1250 & 62500 & 31250 & In-store\\\\\n",
       "\t Foot Locker & 1185732 & 08-01-20 & Northeast & New York & New York & Men's Athletic Footwear   & 50 &  900 & 45000 & 13500 & Outlet  \\\\\n",
       "\t Foot Locker & 1185732 & 21-01-20 & Northeast & New York & New York & Women's Street Footwear   & 40 &  950 & 38000 & 13300 & Outlet  \\\\\n",
       "\t Foot Locker & 1185732 & 22-01-20 & Northeast & New York & New York & Women's Athletic Footwear & 45 &  825 & 37125 & 12994 & Outlet  \\\\\n",
       "\t Foot Locker & 1185732 & 23-01-20 & Northeast & New York & New York & Men's Apparel             & 60 &  900 & 54000 & 16200 & Outlet  \\\\\n",
       "\t Foot Locker & 1185732 & 24-01-20 & Northeast & New York & New York & Women's Apparel           & 50 & 1000 & 50000 & 12500 & Outlet  \\\\\n",
       "\t Foot Locker & 1185732 & 25-01-20 & Northeast & New York & New York & Men's Street Footwear     & 50 & 1220 & 61000 & 30500 & Outlet  \\\\\n",
       "\t Foot Locker & 1185732 & 26-01-20 & Northeast & New York & New York & Men's Athletic Footwear   & 50 &  925 & 46250 & 13875 & Outlet  \\\\\n",
       "\t Foot Locker & 1185732 & 27-01-20 & Northeast & New York & New York & Women's Street Footwear   & 40 &  950 & 38000 & 13300 & Outlet  \\\\\n",
       "\t Foot Locker & 1185732 & 28-01-20 & Northeast & New York & New York & Women's Athletic Footwear & 45 &  800 & 36000 & 12600 & Outlet  \\\\\n",
       "\t Foot Locker & 1185732 & 29-01-20 & Northeast & New York & New York & Men's Apparel             & NA &  850 & 51000 & 15300 & Outlet  \\\\\n",
       "\t Foot Locker & 1185732 & 30-01-20 & Northeast & New York & New York & Women's Apparel           & 50 &  950 & 47500 & 11875 & Outlet  \\\\\n",
       "\t Foot Locker & 1185732 & 31-01-20 & Northeast & New York & New York & Men's Street Footwear     & 50 & 1200 & 60000 & 30000 & Outlet  \\\\\n",
       "\t Foot Locker & 1185732 & 01-02-20 & Northeast & New York & New York & Men's Athletic Footwear   & 50 &  900 & 45000 & 13500 & Outlet  \\\\\n",
       "\t Foot Locker & 1185732 & 02-02-20 & Northeast & New York & New York & Women's Street Footwear   & 40 &  900 & 36000 & 12600 & Outlet  \\\\\n",
       "\t Foot Locker & 1185732 & 03-02-20 & Northeast & New York & New York & Women's Athletic Footwear & 45 &  825 & 37125 & 12994 & Outlet  \\\\\n",
       "\t Foot Locker & 1185732 & 04-02-20 & Northeast & New York & New York & Men's Apparel             & 60 &  825 & 49500 & 14850 & Outlet  \\\\\n",
       "\t Foot Locker & 1185732 & 05-02-20 & Northeast & New York & New York & Women's Apparel           & 50 &  950 & 47500 & 11875 & Outlet  \\\\\n",
       "\t Foot Locker & 1185732 & 06-02-20 & Northeast & New York & New York & Men's Street Footwear     & 60 & 1220 & 73200 & 36600 & Outlet  \\\\\n",
       "\t Foot Locker & 1185732 & 07-02-20 & Northeast & New York & New York & Men's Athletic Footwear   & 55 &  925 & 50875 & 15263 & Outlet  \\\\\n",
       "\t Foot Locker & 1185732 & 08-02-20 & Northeast & New York & New York & Women's Street Footwear   & 50 &  900 & 45000 & 15750 & Outlet  \\\\\n",
       "\t Foot Locker & 1185732 & 09-02-20 & Northeast & New York & New York & Women's Athletic Footwear & 50 &  850 & 42500 & 14875 & Outlet  \\\\\n",
       "\t Foot Locker & 1185732 & 10-02-20 & Northeast & New York & New York & Men's Apparel             & 60 &  875 & 52500 & 15750 & Outlet  \\\\\n",
       "\t Foot Locker & 1185732 & 03-03-20 & Northeast & New York & New York & Women's Apparel           & 65 & 1000 & 65000 & 16250 & Outlet  \\\\\n",
       "\t ⋮ & ⋮ & ⋮ & ⋮ & ⋮ & ⋮ & ⋮ & ⋮ & ⋮ & ⋮ & ⋮ & ⋮\\\\\n",
       "\t Amazon      & 1185732 & 17-09-21 & Northeast & New Hampshire & Manchester & Women's Athletic Footwear & 41 &  74 & 303 & 112 & Outlet\\\\\n",
       "\t Amazon      & 1185732 & 17-09-21 & Northeast & New Hampshire & Manchester & Men's Apparel             & 48 &  70 & 336 & 121 & Outlet\\\\\n",
       "\t Amazon      & 1185732 & 17-09-21 & Northeast & New Hampshire & Manchester & Women's Apparel           & 53 & 104 & 551 & 204 & Outlet\\\\\n",
       "\t Foot Locker & 1185732 & 19-10-21 & Northeast & New Hampshire & Manchester & Men's Street Footwear     & 52 & 162 & 842 & 354 & Outlet\\\\\n",
       "\t Foot Locker & 1185732 & 19-10-21 & Northeast & New Hampshire & Manchester & Men's Athletic Footwear   & 44 &  99 & 436 & 192 & Outlet\\\\\n",
       "\t Foot Locker & 1185732 & 19-10-21 & Northeast & New Hampshire & Manchester & Women's Street Footwear   & 52 &  60 & 312 & 103 & Outlet\\\\\n",
       "\t Foot Locker & 1185732 & 19-10-21 & Northeast & New Hampshire & Manchester & Women's Athletic Footwear & 44 &  61 & 268 &  86 & Outlet\\\\\n",
       "\t Foot Locker & 1185732 & 19-10-21 & Northeast & New Hampshire & Manchester & Men's Apparel             & 50 &  58 & 290 &  93 & Outlet\\\\\n",
       "\t Foot Locker & 1185732 & 19-10-21 & Northeast & New Hampshire & Manchester & Women's Apparel           & 64 &  90 & 576 & 225 & Outlet\\\\\n",
       "\t Foot Locker & 1185732 & 18-11-21 & Northeast & New Hampshire & Manchester & Men's Street Footwear     & 59 & 149 & 879 & 378 & Outlet\\\\\n",
       "\t Foot Locker & 1185732 & 18-11-21 & Northeast & New Hampshire & Manchester & Men's Athletic Footwear   & 42 & 114 & 479 & 206 & Outlet\\\\\n",
       "\t Foot Locker & 1185732 & 18-11-21 & Northeast & New Hampshire & Manchester & Women's Street Footwear   & 51 & 114 & 581 & 203 & Outlet\\\\\n",
       "\t Foot Locker & 1185732 & 18-11-21 & Northeast & New Hampshire & Manchester & Women's Athletic Footwear & 43 & 114 & 490 & 167 & Outlet\\\\\n",
       "\t Foot Locker & 1185732 & 18-11-21 & Northeast & New Hampshire & Manchester & Men's Apparel             & 59 &  96 & 566 & 193 & Outlet\\\\\n",
       "\t Foot Locker & 1185732 & 18-11-21 & Northeast & New Hampshire & Manchester & Women's Apparel           & 61 & 120 & 732 & 300 & Outlet\\\\\n",
       "\t Foot Locker & 1185732 & 17-12-21 & Northeast & New Hampshire & Manchester & Men's Street Footwear     & 49 & 200 & 980 & 461 & Outlet\\\\\n",
       "\t Foot Locker & 1185732 & 17-12-21 & Northeast & New Hampshire & Manchester & Men's Athletic Footwear   & 49 & 128 & 627 & 263 & Outlet\\\\\n",
       "\t Foot Locker & 1185732 & 17-12-21 & Northeast & New Hampshire & Manchester & Women's Street Footwear   & 47 & 128 & 602 & 217 & Outlet\\\\\n",
       "\t Foot Locker & 1185732 & 17-12-21 & Northeast & New Hampshire & Manchester & Women's Athletic Footwear & 49 & 116 & 568 & 199 & Outlet\\\\\n",
       "\t Foot Locker & 1185732 & 17-12-21 & Northeast & New Hampshire & Manchester & Men's Apparel             & 50 & 123 & 615 & 228 & Outlet\\\\\n",
       "\t Foot Locker & 1185732 & 17-12-21 & Northeast & New Hampshire & Manchester & Women's Apparel           & 61 & 144 & 878 & 351 & Outlet\\\\\n",
       "\t Foot Locker & 1185732 & 24-01-21 & Northeast & New Hampshire & Manchester & Men's Street Footwear     & 36 & 165 & 594 & 220 & Outlet\\\\\n",
       "\t Foot Locker & 1185732 & 24-01-21 & Northeast & New Hampshire & Manchester & Men's Athletic Footwear   & 36 &  93 & 335 & 134 & Outlet\\\\\n",
       "\t Foot Locker & 1185732 & 24-01-21 & Northeast & New Hampshire & Manchester & Women's Street Footwear   & 35 &  99 & 347 &  94 & Outlet\\\\\n",
       "\t Foot Locker & 1185732 & 24-01-21 & Northeast & New Hampshire & Manchester & Women's Athletic Footwear & 33 &  51 & 168 &  47 & Outlet\\\\\n",
       "\t Foot Locker & 1185732 & 24-01-21 & Northeast & New Hampshire & Manchester & Men's Apparel             & 50 &  64 & 320 &  90 & Outlet\\\\\n",
       "\t Foot Locker & 1185732 & 24-01-21 & Northeast & New Hampshire & Manchester & Women's Apparel           & 41 & 105 & 431 & 138 & Outlet\\\\\n",
       "\t Foot Locker & 1185732 & 22-02-21 & Northeast & New Hampshire & Manchester & Men's Street Footwear     & 41 & 184 & 754 & 279 & Outlet\\\\\n",
       "\t Foot Locker & 1185732 & 22-02-21 & Northeast & New Hampshire & Manchester & Men's Athletic Footwear   & 42 &  70 & 294 & 123 & Outlet\\\\\n",
       "\t Foot Locker & 1185732 & 22-02-21 & Northeast & New Hampshire & Manchester & Women's Street Footwear   & 29 &  83 & 241 &  65 & Outlet\\\\\n",
       "\\end{tabular}\n"
      ],
      "text/markdown": [
       "\n",
       "A data.frame: 9648 × 12\n",
       "\n",
       "| Retailer &lt;chr&gt; | Retailer.ID &lt;int&gt; | Invoice.Date &lt;chr&gt; | Region &lt;chr&gt; | State &lt;chr&gt; | City &lt;chr&gt; | Product &lt;chr&gt; | Price.per.Unit &lt;int&gt; | Units.Sold &lt;int&gt; | Total.Sales &lt;int&gt; | Operating.Profit &lt;int&gt; | Sales.Method &lt;chr&gt; |\n",
       "|---|---|---|---|---|---|---|---|---|---|---|---|\n",
       "| Foot Locker | 1185732 | 01-01-20 | Northeast | New York | New York | Men's Street Footwear     | 50 | 1200 | 60000 | 30000 | In-store |\n",
       "| Foot Locker | 1185732 | 02-01-20 | Northeast | New York | New York | Men's Athletic Footwear   | 50 | 1000 | 50000 | 15000 | In-store |\n",
       "| Foot Locker | 1185732 | 03-01-20 | Northeast | New York | New York | Women's Street Footwear   | 40 | 1000 | 40000 | 14000 | In-store |\n",
       "| Foot Locker | 1185732 | 04-01-20 | Northeast | New York | New York | Women's Athletic Footwear | 45 |  850 | 38250 | 13388 | In-store |\n",
       "| Foot Locker | 1185732 | 05-01-20 | Northeast | New York | New York | Men's Apparel             | 60 |  900 | 54000 | 16200 | In-store |\n",
       "| Foot Locker | 1185732 | 06-01-20 | Northeast | New York | New York | Women's Apparel           | 50 | 1000 | 50000 | 12500 | In-store |\n",
       "| Foot Locker | 1185732 | 07-01-20 | Northeast | New York | New York | Men's Street Footwear     | 50 | 1250 | 62500 | 31250 | In-store |\n",
       "| Foot Locker | 1185732 | 08-01-20 | Northeast | New York | New York | Men's Athletic Footwear   | 50 |  900 | 45000 | 13500 | Outlet   |\n",
       "| Foot Locker | 1185732 | 21-01-20 | Northeast | New York | New York | Women's Street Footwear   | 40 |  950 | 38000 | 13300 | Outlet   |\n",
       "| Foot Locker | 1185732 | 22-01-20 | Northeast | New York | New York | Women's Athletic Footwear | 45 |  825 | 37125 | 12994 | Outlet   |\n",
       "| Foot Locker | 1185732 | 23-01-20 | Northeast | New York | New York | Men's Apparel             | 60 |  900 | 54000 | 16200 | Outlet   |\n",
       "| Foot Locker | 1185732 | 24-01-20 | Northeast | New York | New York | Women's Apparel           | 50 | 1000 | 50000 | 12500 | Outlet   |\n",
       "| Foot Locker | 1185732 | 25-01-20 | Northeast | New York | New York | Men's Street Footwear     | 50 | 1220 | 61000 | 30500 | Outlet   |\n",
       "| Foot Locker | 1185732 | 26-01-20 | Northeast | New York | New York | Men's Athletic Footwear   | 50 |  925 | 46250 | 13875 | Outlet   |\n",
       "| Foot Locker | 1185732 | 27-01-20 | Northeast | New York | New York | Women's Street Footwear   | 40 |  950 | 38000 | 13300 | Outlet   |\n",
       "| Foot Locker | 1185732 | 28-01-20 | Northeast | New York | New York | Women's Athletic Footwear | 45 |  800 | 36000 | 12600 | Outlet   |\n",
       "| Foot Locker | 1185732 | 29-01-20 | Northeast | New York | New York | Men's Apparel             | NA |  850 | 51000 | 15300 | Outlet   |\n",
       "| Foot Locker | 1185732 | 30-01-20 | Northeast | New York | New York | Women's Apparel           | 50 |  950 | 47500 | 11875 | Outlet   |\n",
       "| Foot Locker | 1185732 | 31-01-20 | Northeast | New York | New York | Men's Street Footwear     | 50 | 1200 | 60000 | 30000 | Outlet   |\n",
       "| Foot Locker | 1185732 | 01-02-20 | Northeast | New York | New York | Men's Athletic Footwear   | 50 |  900 | 45000 | 13500 | Outlet   |\n",
       "| Foot Locker | 1185732 | 02-02-20 | Northeast | New York | New York | Women's Street Footwear   | 40 |  900 | 36000 | 12600 | Outlet   |\n",
       "| Foot Locker | 1185732 | 03-02-20 | Northeast | New York | New York | Women's Athletic Footwear | 45 |  825 | 37125 | 12994 | Outlet   |\n",
       "| Foot Locker | 1185732 | 04-02-20 | Northeast | New York | New York | Men's Apparel             | 60 |  825 | 49500 | 14850 | Outlet   |\n",
       "| Foot Locker | 1185732 | 05-02-20 | Northeast | New York | New York | Women's Apparel           | 50 |  950 | 47500 | 11875 | Outlet   |\n",
       "| Foot Locker | 1185732 | 06-02-20 | Northeast | New York | New York | Men's Street Footwear     | 60 | 1220 | 73200 | 36600 | Outlet   |\n",
       "| Foot Locker | 1185732 | 07-02-20 | Northeast | New York | New York | Men's Athletic Footwear   | 55 |  925 | 50875 | 15263 | Outlet   |\n",
       "| Foot Locker | 1185732 | 08-02-20 | Northeast | New York | New York | Women's Street Footwear   | 50 |  900 | 45000 | 15750 | Outlet   |\n",
       "| Foot Locker | 1185732 | 09-02-20 | Northeast | New York | New York | Women's Athletic Footwear | 50 |  850 | 42500 | 14875 | Outlet   |\n",
       "| Foot Locker | 1185732 | 10-02-20 | Northeast | New York | New York | Men's Apparel             | 60 |  875 | 52500 | 15750 | Outlet   |\n",
       "| Foot Locker | 1185732 | 03-03-20 | Northeast | New York | New York | Women's Apparel           | 65 | 1000 | 65000 | 16250 | Outlet   |\n",
       "| ⋮ | ⋮ | ⋮ | ⋮ | ⋮ | ⋮ | ⋮ | ⋮ | ⋮ | ⋮ | ⋮ | ⋮ |\n",
       "| Amazon      | 1185732 | 17-09-21 | Northeast | New Hampshire | Manchester | Women's Athletic Footwear | 41 |  74 | 303 | 112 | Outlet |\n",
       "| Amazon      | 1185732 | 17-09-21 | Northeast | New Hampshire | Manchester | Men's Apparel             | 48 |  70 | 336 | 121 | Outlet |\n",
       "| Amazon      | 1185732 | 17-09-21 | Northeast | New Hampshire | Manchester | Women's Apparel           | 53 | 104 | 551 | 204 | Outlet |\n",
       "| Foot Locker | 1185732 | 19-10-21 | Northeast | New Hampshire | Manchester | Men's Street Footwear     | 52 | 162 | 842 | 354 | Outlet |\n",
       "| Foot Locker | 1185732 | 19-10-21 | Northeast | New Hampshire | Manchester | Men's Athletic Footwear   | 44 |  99 | 436 | 192 | Outlet |\n",
       "| Foot Locker | 1185732 | 19-10-21 | Northeast | New Hampshire | Manchester | Women's Street Footwear   | 52 |  60 | 312 | 103 | Outlet |\n",
       "| Foot Locker | 1185732 | 19-10-21 | Northeast | New Hampshire | Manchester | Women's Athletic Footwear | 44 |  61 | 268 |  86 | Outlet |\n",
       "| Foot Locker | 1185732 | 19-10-21 | Northeast | New Hampshire | Manchester | Men's Apparel             | 50 |  58 | 290 |  93 | Outlet |\n",
       "| Foot Locker | 1185732 | 19-10-21 | Northeast | New Hampshire | Manchester | Women's Apparel           | 64 |  90 | 576 | 225 | Outlet |\n",
       "| Foot Locker | 1185732 | 18-11-21 | Northeast | New Hampshire | Manchester | Men's Street Footwear     | 59 | 149 | 879 | 378 | Outlet |\n",
       "| Foot Locker | 1185732 | 18-11-21 | Northeast | New Hampshire | Manchester | Men's Athletic Footwear   | 42 | 114 | 479 | 206 | Outlet |\n",
       "| Foot Locker | 1185732 | 18-11-21 | Northeast | New Hampshire | Manchester | Women's Street Footwear   | 51 | 114 | 581 | 203 | Outlet |\n",
       "| Foot Locker | 1185732 | 18-11-21 | Northeast | New Hampshire | Manchester | Women's Athletic Footwear | 43 | 114 | 490 | 167 | Outlet |\n",
       "| Foot Locker | 1185732 | 18-11-21 | Northeast | New Hampshire | Manchester | Men's Apparel             | 59 |  96 | 566 | 193 | Outlet |\n",
       "| Foot Locker | 1185732 | 18-11-21 | Northeast | New Hampshire | Manchester | Women's Apparel           | 61 | 120 | 732 | 300 | Outlet |\n",
       "| Foot Locker | 1185732 | 17-12-21 | Northeast | New Hampshire | Manchester | Men's Street Footwear     | 49 | 200 | 980 | 461 | Outlet |\n",
       "| Foot Locker | 1185732 | 17-12-21 | Northeast | New Hampshire | Manchester | Men's Athletic Footwear   | 49 | 128 | 627 | 263 | Outlet |\n",
       "| Foot Locker | 1185732 | 17-12-21 | Northeast | New Hampshire | Manchester | Women's Street Footwear   | 47 | 128 | 602 | 217 | Outlet |\n",
       "| Foot Locker | 1185732 | 17-12-21 | Northeast | New Hampshire | Manchester | Women's Athletic Footwear | 49 | 116 | 568 | 199 | Outlet |\n",
       "| Foot Locker | 1185732 | 17-12-21 | Northeast | New Hampshire | Manchester | Men's Apparel             | 50 | 123 | 615 | 228 | Outlet |\n",
       "| Foot Locker | 1185732 | 17-12-21 | Northeast | New Hampshire | Manchester | Women's Apparel           | 61 | 144 | 878 | 351 | Outlet |\n",
       "| Foot Locker | 1185732 | 24-01-21 | Northeast | New Hampshire | Manchester | Men's Street Footwear     | 36 | 165 | 594 | 220 | Outlet |\n",
       "| Foot Locker | 1185732 | 24-01-21 | Northeast | New Hampshire | Manchester | Men's Athletic Footwear   | 36 |  93 | 335 | 134 | Outlet |\n",
       "| Foot Locker | 1185732 | 24-01-21 | Northeast | New Hampshire | Manchester | Women's Street Footwear   | 35 |  99 | 347 |  94 | Outlet |\n",
       "| Foot Locker | 1185732 | 24-01-21 | Northeast | New Hampshire | Manchester | Women's Athletic Footwear | 33 |  51 | 168 |  47 | Outlet |\n",
       "| Foot Locker | 1185732 | 24-01-21 | Northeast | New Hampshire | Manchester | Men's Apparel             | 50 |  64 | 320 |  90 | Outlet |\n",
       "| Foot Locker | 1185732 | 24-01-21 | Northeast | New Hampshire | Manchester | Women's Apparel           | 41 | 105 | 431 | 138 | Outlet |\n",
       "| Foot Locker | 1185732 | 22-02-21 | Northeast | New Hampshire | Manchester | Men's Street Footwear     | 41 | 184 | 754 | 279 | Outlet |\n",
       "| Foot Locker | 1185732 | 22-02-21 | Northeast | New Hampshire | Manchester | Men's Athletic Footwear   | 42 |  70 | 294 | 123 | Outlet |\n",
       "| Foot Locker | 1185732 | 22-02-21 | Northeast | New Hampshire | Manchester | Women's Street Footwear   | 29 |  83 | 241 |  65 | Outlet |\n",
       "\n"
      ],
      "text/plain": [
       "     Retailer    Retailer.ID Invoice.Date Region    State         City      \n",
       "1    Foot Locker 1185732     01-01-20     Northeast New York      New York  \n",
       "2    Foot Locker 1185732     02-01-20     Northeast New York      New York  \n",
       "3    Foot Locker 1185732     03-01-20     Northeast New York      New York  \n",
       "4    Foot Locker 1185732     04-01-20     Northeast New York      New York  \n",
       "5    Foot Locker 1185732     05-01-20     Northeast New York      New York  \n",
       "6    Foot Locker 1185732     06-01-20     Northeast New York      New York  \n",
       "7    Foot Locker 1185732     07-01-20     Northeast New York      New York  \n",
       "8    Foot Locker 1185732     08-01-20     Northeast New York      New York  \n",
       "9    Foot Locker 1185732     21-01-20     Northeast New York      New York  \n",
       "10   Foot Locker 1185732     22-01-20     Northeast New York      New York  \n",
       "11   Foot Locker 1185732     23-01-20     Northeast New York      New York  \n",
       "12   Foot Locker 1185732     24-01-20     Northeast New York      New York  \n",
       "13   Foot Locker 1185732     25-01-20     Northeast New York      New York  \n",
       "14   Foot Locker 1185732     26-01-20     Northeast New York      New York  \n",
       "15   Foot Locker 1185732     27-01-20     Northeast New York      New York  \n",
       "16   Foot Locker 1185732     28-01-20     Northeast New York      New York  \n",
       "17   Foot Locker 1185732     29-01-20     Northeast New York      New York  \n",
       "18   Foot Locker 1185732     30-01-20     Northeast New York      New York  \n",
       "19   Foot Locker 1185732     31-01-20     Northeast New York      New York  \n",
       "20   Foot Locker 1185732     01-02-20     Northeast New York      New York  \n",
       "21   Foot Locker 1185732     02-02-20     Northeast New York      New York  \n",
       "22   Foot Locker 1185732     03-02-20     Northeast New York      New York  \n",
       "23   Foot Locker 1185732     04-02-20     Northeast New York      New York  \n",
       "24   Foot Locker 1185732     05-02-20     Northeast New York      New York  \n",
       "25   Foot Locker 1185732     06-02-20     Northeast New York      New York  \n",
       "26   Foot Locker 1185732     07-02-20     Northeast New York      New York  \n",
       "27   Foot Locker 1185732     08-02-20     Northeast New York      New York  \n",
       "28   Foot Locker 1185732     09-02-20     Northeast New York      New York  \n",
       "29   Foot Locker 1185732     10-02-20     Northeast New York      New York  \n",
       "30   Foot Locker 1185732     03-03-20     Northeast New York      New York  \n",
       "⋮    ⋮           ⋮           ⋮            ⋮         ⋮             ⋮         \n",
       "9619 Amazon      1185732     17-09-21     Northeast New Hampshire Manchester\n",
       "9620 Amazon      1185732     17-09-21     Northeast New Hampshire Manchester\n",
       "9621 Amazon      1185732     17-09-21     Northeast New Hampshire Manchester\n",
       "9622 Foot Locker 1185732     19-10-21     Northeast New Hampshire Manchester\n",
       "9623 Foot Locker 1185732     19-10-21     Northeast New Hampshire Manchester\n",
       "9624 Foot Locker 1185732     19-10-21     Northeast New Hampshire Manchester\n",
       "9625 Foot Locker 1185732     19-10-21     Northeast New Hampshire Manchester\n",
       "9626 Foot Locker 1185732     19-10-21     Northeast New Hampshire Manchester\n",
       "9627 Foot Locker 1185732     19-10-21     Northeast New Hampshire Manchester\n",
       "9628 Foot Locker 1185732     18-11-21     Northeast New Hampshire Manchester\n",
       "9629 Foot Locker 1185732     18-11-21     Northeast New Hampshire Manchester\n",
       "9630 Foot Locker 1185732     18-11-21     Northeast New Hampshire Manchester\n",
       "9631 Foot Locker 1185732     18-11-21     Northeast New Hampshire Manchester\n",
       "9632 Foot Locker 1185732     18-11-21     Northeast New Hampshire Manchester\n",
       "9633 Foot Locker 1185732     18-11-21     Northeast New Hampshire Manchester\n",
       "9634 Foot Locker 1185732     17-12-21     Northeast New Hampshire Manchester\n",
       "9635 Foot Locker 1185732     17-12-21     Northeast New Hampshire Manchester\n",
       "9636 Foot Locker 1185732     17-12-21     Northeast New Hampshire Manchester\n",
       "9637 Foot Locker 1185732     17-12-21     Northeast New Hampshire Manchester\n",
       "9638 Foot Locker 1185732     17-12-21     Northeast New Hampshire Manchester\n",
       "9639 Foot Locker 1185732     17-12-21     Northeast New Hampshire Manchester\n",
       "9640 Foot Locker 1185732     24-01-21     Northeast New Hampshire Manchester\n",
       "9641 Foot Locker 1185732     24-01-21     Northeast New Hampshire Manchester\n",
       "9642 Foot Locker 1185732     24-01-21     Northeast New Hampshire Manchester\n",
       "9643 Foot Locker 1185732     24-01-21     Northeast New Hampshire Manchester\n",
       "9644 Foot Locker 1185732     24-01-21     Northeast New Hampshire Manchester\n",
       "9645 Foot Locker 1185732     24-01-21     Northeast New Hampshire Manchester\n",
       "9646 Foot Locker 1185732     22-02-21     Northeast New Hampshire Manchester\n",
       "9647 Foot Locker 1185732     22-02-21     Northeast New Hampshire Manchester\n",
       "9648 Foot Locker 1185732     22-02-21     Northeast New Hampshire Manchester\n",
       "     Product                   Price.per.Unit Units.Sold Total.Sales\n",
       "1    Men's Street Footwear     50             1200       60000      \n",
       "2    Men's Athletic Footwear   50             1000       50000      \n",
       "3    Women's Street Footwear   40             1000       40000      \n",
       "4    Women's Athletic Footwear 45              850       38250      \n",
       "5    Men's Apparel             60              900       54000      \n",
       "6    Women's Apparel           50             1000       50000      \n",
       "7    Men's Street Footwear     50             1250       62500      \n",
       "8    Men's Athletic Footwear   50              900       45000      \n",
       "9    Women's Street Footwear   40              950       38000      \n",
       "10   Women's Athletic Footwear 45              825       37125      \n",
       "11   Men's Apparel             60              900       54000      \n",
       "12   Women's Apparel           50             1000       50000      \n",
       "13   Men's Street Footwear     50             1220       61000      \n",
       "14   Men's Athletic Footwear   50              925       46250      \n",
       "15   Women's Street Footwear   40              950       38000      \n",
       "16   Women's Athletic Footwear 45              800       36000      \n",
       "17   Men's Apparel             NA              850       51000      \n",
       "18   Women's Apparel           50              950       47500      \n",
       "19   Men's Street Footwear     50             1200       60000      \n",
       "20   Men's Athletic Footwear   50              900       45000      \n",
       "21   Women's Street Footwear   40              900       36000      \n",
       "22   Women's Athletic Footwear 45              825       37125      \n",
       "23   Men's Apparel             60              825       49500      \n",
       "24   Women's Apparel           50              950       47500      \n",
       "25   Men's Street Footwear     60             1220       73200      \n",
       "26   Men's Athletic Footwear   55              925       50875      \n",
       "27   Women's Street Footwear   50              900       45000      \n",
       "28   Women's Athletic Footwear 50              850       42500      \n",
       "29   Men's Apparel             60              875       52500      \n",
       "30   Women's Apparel           65             1000       65000      \n",
       "⋮    ⋮                         ⋮              ⋮          ⋮          \n",
       "9619 Women's Athletic Footwear 41              74        303        \n",
       "9620 Men's Apparel             48              70        336        \n",
       "9621 Women's Apparel           53             104        551        \n",
       "9622 Men's Street Footwear     52             162        842        \n",
       "9623 Men's Athletic Footwear   44              99        436        \n",
       "9624 Women's Street Footwear   52              60        312        \n",
       "9625 Women's Athletic Footwear 44              61        268        \n",
       "9626 Men's Apparel             50              58        290        \n",
       "9627 Women's Apparel           64              90        576        \n",
       "9628 Men's Street Footwear     59             149        879        \n",
       "9629 Men's Athletic Footwear   42             114        479        \n",
       "9630 Women's Street Footwear   51             114        581        \n",
       "9631 Women's Athletic Footwear 43             114        490        \n",
       "9632 Men's Apparel             59              96        566        \n",
       "9633 Women's Apparel           61             120        732        \n",
       "9634 Men's Street Footwear     49             200        980        \n",
       "9635 Men's Athletic Footwear   49             128        627        \n",
       "9636 Women's Street Footwear   47             128        602        \n",
       "9637 Women's Athletic Footwear 49             116        568        \n",
       "9638 Men's Apparel             50             123        615        \n",
       "9639 Women's Apparel           61             144        878        \n",
       "9640 Men's Street Footwear     36             165        594        \n",
       "9641 Men's Athletic Footwear   36              93        335        \n",
       "9642 Women's Street Footwear   35              99        347        \n",
       "9643 Women's Athletic Footwear 33              51        168        \n",
       "9644 Men's Apparel             50              64        320        \n",
       "9645 Women's Apparel           41             105        431        \n",
       "9646 Men's Street Footwear     41             184        754        \n",
       "9647 Men's Athletic Footwear   42              70        294        \n",
       "9648 Women's Street Footwear   29              83        241        \n",
       "     Operating.Profit Sales.Method\n",
       "1    30000            In-store    \n",
       "2    15000            In-store    \n",
       "3    14000            In-store    \n",
       "4    13388            In-store    \n",
       "5    16200            In-store    \n",
       "6    12500            In-store    \n",
       "7    31250            In-store    \n",
       "8    13500            Outlet      \n",
       "9    13300            Outlet      \n",
       "10   12994            Outlet      \n",
       "11   16200            Outlet      \n",
       "12   12500            Outlet      \n",
       "13   30500            Outlet      \n",
       "14   13875            Outlet      \n",
       "15   13300            Outlet      \n",
       "16   12600            Outlet      \n",
       "17   15300            Outlet      \n",
       "18   11875            Outlet      \n",
       "19   30000            Outlet      \n",
       "20   13500            Outlet      \n",
       "21   12600            Outlet      \n",
       "22   12994            Outlet      \n",
       "23   14850            Outlet      \n",
       "24   11875            Outlet      \n",
       "25   36600            Outlet      \n",
       "26   15263            Outlet      \n",
       "27   15750            Outlet      \n",
       "28   14875            Outlet      \n",
       "29   15750            Outlet      \n",
       "30   16250            Outlet      \n",
       "⋮    ⋮                ⋮           \n",
       "9619 112              Outlet      \n",
       "9620 121              Outlet      \n",
       "9621 204              Outlet      \n",
       "9622 354              Outlet      \n",
       "9623 192              Outlet      \n",
       "9624 103              Outlet      \n",
       "9625  86              Outlet      \n",
       "9626  93              Outlet      \n",
       "9627 225              Outlet      \n",
       "9628 378              Outlet      \n",
       "9629 206              Outlet      \n",
       "9630 203              Outlet      \n",
       "9631 167              Outlet      \n",
       "9632 193              Outlet      \n",
       "9633 300              Outlet      \n",
       "9634 461              Outlet      \n",
       "9635 263              Outlet      \n",
       "9636 217              Outlet      \n",
       "9637 199              Outlet      \n",
       "9638 228              Outlet      \n",
       "9639 351              Outlet      \n",
       "9640 220              Outlet      \n",
       "9641 134              Outlet      \n",
       "9642  94              Outlet      \n",
       "9643  47              Outlet      \n",
       "9644  90              Outlet      \n",
       "9645 138              Outlet      \n",
       "9646 279              Outlet      \n",
       "9647 123              Outlet      \n",
       "9648  65              Outlet      "
      ]
     },
     "metadata": {},
     "output_type": "display_data"
    }
   ],
   "source": [
    "#show the DataSet\n",
    "df"
   ]
  },
  {
   "cell_type": "code",
   "execution_count": 17,
   "id": "dc5e1f18",
   "metadata": {
    "execution": {
     "iopub.execute_input": "2023-10-12T19:29:46.919261Z",
     "iopub.status.busy": "2023-10-12T19:29:46.917455Z",
     "iopub.status.idle": "2023-10-12T19:29:46.963187Z",
     "shell.execute_reply": "2023-10-12T19:29:46.960410Z"
    },
    "papermill": {
     "duration": 0.065639,
     "end_time": "2023-10-12T19:29:46.966582",
     "exception": false,
     "start_time": "2023-10-12T19:29:46.900943",
     "status": "completed"
    },
    "tags": []
   },
   "outputs": [
    {
     "name": "stdout",
     "output_type": "stream",
     "text": [
      "'data.frame':\t9648 obs. of  12 variables:\n",
      " $ Retailer        : chr  \"Foot Locker\" \"Foot Locker\" \"Foot Locker\" \"Foot Locker\" ...\n",
      " $ Retailer.ID     : int  1185732 1185732 1185732 1185732 1185732 1185732 1185732 1185732 1185732 1185732 ...\n",
      " $ Invoice.Date    : chr  \"01-01-20\" \"02-01-20\" \"03-01-20\" \"04-01-20\" ...\n",
      " $ Region          : chr  \"Northeast\" \"Northeast\" \"Northeast\" \"Northeast\" ...\n",
      " $ State           : chr  \"New York\" \"New York\" \"New York\" \"New York\" ...\n",
      " $ City            : chr  \"New York\" \"New York\" \"New York\" \"New York\" ...\n",
      " $ Product         : chr  \"Men's Street Footwear\" \"Men's Athletic Footwear\" \"Women's Street Footwear\" \"Women's Athletic Footwear\" ...\n",
      " $ Price.per.Unit  : int  50 50 40 45 60 50 50 50 40 45 ...\n",
      " $ Units.Sold      : int  1200 1000 1000 850 900 1000 1250 900 950 825 ...\n",
      " $ Total.Sales     : int  60000 50000 40000 38250 54000 50000 62500 45000 38000 37125 ...\n",
      " $ Operating.Profit: int  30000 15000 14000 13388 16200 12500 31250 13500 13300 12994 ...\n",
      " $ Sales.Method    : chr  \"In-store\" \"In-store\" \"In-store\" \"In-store\" ...\n"
     ]
    }
   ],
   "source": [
    "#show the columns name with data type using function str(the name dataframe )\n",
    "\n",
    "str(df)"
   ]
  },
  {
   "cell_type": "code",
   "execution_count": 18,
   "id": "59004feb",
   "metadata": {
    "execution": {
     "iopub.execute_input": "2023-10-12T19:29:46.999191Z",
     "iopub.status.busy": "2023-10-12T19:29:46.997358Z",
     "iopub.status.idle": "2023-10-12T19:29:47.025777Z",
     "shell.execute_reply": "2023-10-12T19:29:47.022286Z"
    },
    "papermill": {
     "duration": 0.048332,
     "end_time": "2023-10-12T19:29:47.029378",
     "exception": false,
     "start_time": "2023-10-12T19:29:46.981046",
     "status": "completed"
    },
    "tags": []
   },
   "outputs": [
    {
     "data": {
      "text/html": [
       "<style>\n",
       ".list-inline {list-style: none; margin:0; padding: 0}\n",
       ".list-inline>li {display: inline-block}\n",
       ".list-inline>li:not(:last-child)::after {content: \"\\00b7\"; padding: 0 .5ex}\n",
       "</style>\n",
       "<ol class=list-inline><li>9648</li><li>12</li></ol>\n"
      ],
      "text/latex": [
       "\\begin{enumerate*}\n",
       "\\item 9648\n",
       "\\item 12\n",
       "\\end{enumerate*}\n"
      ],
      "text/markdown": [
       "1. 9648\n",
       "2. 12\n",
       "\n",
       "\n"
      ],
      "text/plain": [
       "[1] 9648   12"
      ]
     },
     "metadata": {},
     "output_type": "display_data"
    }
   ],
   "source": [
    "# show the shape the dataset, how many row and column  using function dim(the name dataframe)  the result first the number of row the second the number of column\n",
    "\n",
    "dim(df)"
   ]
  },
  {
   "cell_type": "code",
   "execution_count": 19,
   "id": "79b25df4",
   "metadata": {
    "execution": {
     "iopub.execute_input": "2023-10-12T19:29:47.063127Z",
     "iopub.status.busy": "2023-10-12T19:29:47.061223Z",
     "iopub.status.idle": "2023-10-12T19:29:47.104301Z",
     "shell.execute_reply": "2023-10-12T19:29:47.101948Z"
    },
    "papermill": {
     "duration": 0.062556,
     "end_time": "2023-10-12T19:29:47.107465",
     "exception": false,
     "start_time": "2023-10-12T19:29:47.044909",
     "status": "completed"
    },
    "tags": []
   },
   "outputs": [
    {
     "data": {
      "text/plain": [
       "   Retailer          Retailer.ID      Invoice.Date          Region         \n",
       " Length:9648        Min.   :1128299   Length:9648        Length:9648       \n",
       " Class :character   1st Qu.:1185732   Class :character   Class :character  \n",
       " Mode  :character   Median :1185732   Mode  :character   Mode  :character  \n",
       "                    Mean   :1173850                                        \n",
       "                    3rd Qu.:1185732                                        \n",
       "                    Max.   :1197831                                        \n",
       "                                                                           \n",
       "    State               City             Product          Price.per.Unit  \n",
       " Length:9648        Length:9648        Length:9648        Min.   :  7.00  \n",
       " Class :character   Class :character   Class :character   1st Qu.: 35.00  \n",
       " Mode  :character   Mode  :character   Mode  :character   Median : 45.00  \n",
       "                                                          Mean   : 45.22  \n",
       "                                                          3rd Qu.: 55.00  \n",
       "                                                          Max.   :110.00  \n",
       "                                                          NA's   :2       \n",
       "   Units.Sold      Total.Sales      Operating.Profit Sales.Method      \n",
       " Min.   :   0.0   Min.   :    0.0   Min.   :    0    Length:9648       \n",
       " 1st Qu.: 106.0   1st Qu.:  425.8   1st Qu.:  192    Class :character  \n",
       " Median : 176.0   Median :  958.0   Median :  437    Mode  :character  \n",
       " Mean   : 256.9   Mean   : 9327.4   Mean   : 3443                      \n",
       " 3rd Qu.: 350.0   3rd Qu.:15000.0   3rd Qu.: 5206                      \n",
       " Max.   :1275.0   Max.   :82500.0   Max.   :39000                      \n",
       "                                                                       "
      ]
     },
     "metadata": {},
     "output_type": "display_data"
    }
   ],
   "source": [
    "# show the summary / description about the dataset using function summary (the name dataframe) \n",
    "# you can see the min, max, mean, data type ... everything about the data\n",
    "summary(df)"
   ]
  },
  {
   "cell_type": "code",
   "execution_count": 20,
   "id": "a4943924",
   "metadata": {
    "execution": {
     "iopub.execute_input": "2023-10-12T19:29:47.141996Z",
     "iopub.status.busy": "2023-10-12T19:29:47.138342Z",
     "iopub.status.idle": "2023-10-12T19:29:47.180217Z",
     "shell.execute_reply": "2023-10-12T19:29:47.177495Z"
    },
    "papermill": {
     "duration": 0.063075,
     "end_time": "2023-10-12T19:29:47.184406",
     "exception": false,
     "start_time": "2023-10-12T19:29:47.121331",
     "status": "completed"
    },
    "tags": []
   },
   "outputs": [
    {
     "data": {
      "text/html": [
       "<table class=\"dataframe\">\n",
       "<caption>A data.frame: 6 × 12</caption>\n",
       "<thead>\n",
       "\t<tr><th></th><th scope=col>Retailer</th><th scope=col>Retailer.ID</th><th scope=col>Invoice.Date</th><th scope=col>Region</th><th scope=col>State</th><th scope=col>City</th><th scope=col>Product</th><th scope=col>Price.per.Unit</th><th scope=col>Units.Sold</th><th scope=col>Total.Sales</th><th scope=col>Operating.Profit</th><th scope=col>Sales.Method</th></tr>\n",
       "\t<tr><th></th><th scope=col>&lt;chr&gt;</th><th scope=col>&lt;int&gt;</th><th scope=col>&lt;chr&gt;</th><th scope=col>&lt;chr&gt;</th><th scope=col>&lt;chr&gt;</th><th scope=col>&lt;chr&gt;</th><th scope=col>&lt;chr&gt;</th><th scope=col>&lt;int&gt;</th><th scope=col>&lt;int&gt;</th><th scope=col>&lt;int&gt;</th><th scope=col>&lt;int&gt;</th><th scope=col>&lt;chr&gt;</th></tr>\n",
       "</thead>\n",
       "<tbody>\n",
       "\t<tr><th scope=row>1</th><td>Foot Locker</td><td>1185732</td><td>01-01-20</td><td>Northeast</td><td>New York</td><td>New York</td><td>Men's Street Footwear    </td><td>50</td><td>1200</td><td>60000</td><td>30000</td><td>In-store</td></tr>\n",
       "\t<tr><th scope=row>2</th><td>Foot Locker</td><td>1185732</td><td>02-01-20</td><td>Northeast</td><td>New York</td><td>New York</td><td>Men's Athletic Footwear  </td><td>50</td><td>1000</td><td>50000</td><td>15000</td><td>In-store</td></tr>\n",
       "\t<tr><th scope=row>3</th><td>Foot Locker</td><td>1185732</td><td>03-01-20</td><td>Northeast</td><td>New York</td><td>New York</td><td>Women's Street Footwear  </td><td>40</td><td>1000</td><td>40000</td><td>14000</td><td>In-store</td></tr>\n",
       "\t<tr><th scope=row>4</th><td>Foot Locker</td><td>1185732</td><td>04-01-20</td><td>Northeast</td><td>New York</td><td>New York</td><td>Women's Athletic Footwear</td><td>45</td><td> 850</td><td>38250</td><td>13388</td><td>In-store</td></tr>\n",
       "\t<tr><th scope=row>5</th><td>Foot Locker</td><td>1185732</td><td>05-01-20</td><td>Northeast</td><td>New York</td><td>New York</td><td>Men's Apparel            </td><td>60</td><td> 900</td><td>54000</td><td>16200</td><td>In-store</td></tr>\n",
       "\t<tr><th scope=row>6</th><td>Foot Locker</td><td>1185732</td><td>06-01-20</td><td>Northeast</td><td>New York</td><td>New York</td><td>Women's Apparel          </td><td>50</td><td>1000</td><td>50000</td><td>12500</td><td>In-store</td></tr>\n",
       "</tbody>\n",
       "</table>\n"
      ],
      "text/latex": [
       "A data.frame: 6 × 12\n",
       "\\begin{tabular}{r|llllllllllll}\n",
       "  & Retailer & Retailer.ID & Invoice.Date & Region & State & City & Product & Price.per.Unit & Units.Sold & Total.Sales & Operating.Profit & Sales.Method\\\\\n",
       "  & <chr> & <int> & <chr> & <chr> & <chr> & <chr> & <chr> & <int> & <int> & <int> & <int> & <chr>\\\\\n",
       "\\hline\n",
       "\t1 & Foot Locker & 1185732 & 01-01-20 & Northeast & New York & New York & Men's Street Footwear     & 50 & 1200 & 60000 & 30000 & In-store\\\\\n",
       "\t2 & Foot Locker & 1185732 & 02-01-20 & Northeast & New York & New York & Men's Athletic Footwear   & 50 & 1000 & 50000 & 15000 & In-store\\\\\n",
       "\t3 & Foot Locker & 1185732 & 03-01-20 & Northeast & New York & New York & Women's Street Footwear   & 40 & 1000 & 40000 & 14000 & In-store\\\\\n",
       "\t4 & Foot Locker & 1185732 & 04-01-20 & Northeast & New York & New York & Women's Athletic Footwear & 45 &  850 & 38250 & 13388 & In-store\\\\\n",
       "\t5 & Foot Locker & 1185732 & 05-01-20 & Northeast & New York & New York & Men's Apparel             & 60 &  900 & 54000 & 16200 & In-store\\\\\n",
       "\t6 & Foot Locker & 1185732 & 06-01-20 & Northeast & New York & New York & Women's Apparel           & 50 & 1000 & 50000 & 12500 & In-store\\\\\n",
       "\\end{tabular}\n"
      ],
      "text/markdown": [
       "\n",
       "A data.frame: 6 × 12\n",
       "\n",
       "| <!--/--> | Retailer &lt;chr&gt; | Retailer.ID &lt;int&gt; | Invoice.Date &lt;chr&gt; | Region &lt;chr&gt; | State &lt;chr&gt; | City &lt;chr&gt; | Product &lt;chr&gt; | Price.per.Unit &lt;int&gt; | Units.Sold &lt;int&gt; | Total.Sales &lt;int&gt; | Operating.Profit &lt;int&gt; | Sales.Method &lt;chr&gt; |\n",
       "|---|---|---|---|---|---|---|---|---|---|---|---|---|\n",
       "| 1 | Foot Locker | 1185732 | 01-01-20 | Northeast | New York | New York | Men's Street Footwear     | 50 | 1200 | 60000 | 30000 | In-store |\n",
       "| 2 | Foot Locker | 1185732 | 02-01-20 | Northeast | New York | New York | Men's Athletic Footwear   | 50 | 1000 | 50000 | 15000 | In-store |\n",
       "| 3 | Foot Locker | 1185732 | 03-01-20 | Northeast | New York | New York | Women's Street Footwear   | 40 | 1000 | 40000 | 14000 | In-store |\n",
       "| 4 | Foot Locker | 1185732 | 04-01-20 | Northeast | New York | New York | Women's Athletic Footwear | 45 |  850 | 38250 | 13388 | In-store |\n",
       "| 5 | Foot Locker | 1185732 | 05-01-20 | Northeast | New York | New York | Men's Apparel             | 60 |  900 | 54000 | 16200 | In-store |\n",
       "| 6 | Foot Locker | 1185732 | 06-01-20 | Northeast | New York | New York | Women's Apparel           | 50 | 1000 | 50000 | 12500 | In-store |\n",
       "\n"
      ],
      "text/plain": [
       "  Retailer    Retailer.ID Invoice.Date Region    State    City    \n",
       "1 Foot Locker 1185732     01-01-20     Northeast New York New York\n",
       "2 Foot Locker 1185732     02-01-20     Northeast New York New York\n",
       "3 Foot Locker 1185732     03-01-20     Northeast New York New York\n",
       "4 Foot Locker 1185732     04-01-20     Northeast New York New York\n",
       "5 Foot Locker 1185732     05-01-20     Northeast New York New York\n",
       "6 Foot Locker 1185732     06-01-20     Northeast New York New York\n",
       "  Product                   Price.per.Unit Units.Sold Total.Sales\n",
       "1 Men's Street Footwear     50             1200       60000      \n",
       "2 Men's Athletic Footwear   50             1000       50000      \n",
       "3 Women's Street Footwear   40             1000       40000      \n",
       "4 Women's Athletic Footwear 45              850       38250      \n",
       "5 Men's Apparel             60              900       54000      \n",
       "6 Women's Apparel           50             1000       50000      \n",
       "  Operating.Profit Sales.Method\n",
       "1 30000            In-store    \n",
       "2 15000            In-store    \n",
       "3 14000            In-store    \n",
       "4 13388            In-store    \n",
       "5 16200            In-store    \n",
       "6 12500            In-store    "
      ]
     },
     "metadata": {},
     "output_type": "display_data"
    }
   ],
   "source": [
    "#show the number of row first or last, head(df, the number of rows, the Default  = 6 row)\n",
    "head(df)"
   ]
  },
  {
   "cell_type": "code",
   "execution_count": 21,
   "id": "c56b6b87",
   "metadata": {
    "execution": {
     "iopub.execute_input": "2023-10-12T19:29:47.219641Z",
     "iopub.status.busy": "2023-10-12T19:29:47.217885Z",
     "iopub.status.idle": "2023-10-12T19:29:47.386214Z",
     "shell.execute_reply": "2023-10-12T19:29:47.384011Z"
    },
    "papermill": {
     "duration": 0.190356,
     "end_time": "2023-10-12T19:29:47.390186",
     "exception": false,
     "start_time": "2023-10-12T19:29:47.199830",
     "status": "completed"
    },
    "tags": []
   },
   "outputs": [],
   "source": [
    "# Rename the Column - just write rename(data frame , new name = old name)\n",
    "\n",
    "#rename(df, \"new co\"= \"City\")"
   ]
  },
  {
   "cell_type": "code",
   "execution_count": 22,
   "id": "64d413e8",
   "metadata": {
    "execution": {
     "iopub.execute_input": "2023-10-12T19:29:47.424078Z",
     "iopub.status.busy": "2023-10-12T19:29:47.422266Z",
     "iopub.status.idle": "2023-10-12T19:29:47.520499Z",
     "shell.execute_reply": "2023-10-12T19:29:47.518584Z"
    },
    "papermill": {
     "duration": 0.118239,
     "end_time": "2023-10-12T19:29:47.523250",
     "exception": false,
     "start_time": "2023-10-12T19:29:47.405011",
     "status": "completed"
    },
    "tags": []
   },
   "outputs": [
    {
     "data": {
      "text/html": [
       "0"
      ],
      "text/latex": [
       "0"
      ],
      "text/markdown": [
       "0"
      ],
      "text/plain": [
       "[1] 0"
      ]
     },
     "metadata": {},
     "output_type": "display_data"
    }
   ],
   "source": [
    "# check if there duplication in the data set / sum - mean the total\n",
    "\n",
    "sum(duplicated(df))\n"
   ]
  },
  {
   "cell_type": "code",
   "execution_count": 23,
   "id": "42909bea",
   "metadata": {
    "execution": {
     "iopub.execute_input": "2023-10-12T19:29:47.556652Z",
     "iopub.status.busy": "2023-10-12T19:29:47.554869Z",
     "iopub.status.idle": "2023-10-12T19:29:47.570051Z",
     "shell.execute_reply": "2023-10-12T19:29:47.567831Z"
    },
    "papermill": {
     "duration": 0.035771,
     "end_time": "2023-10-12T19:29:47.573741",
     "exception": false,
     "start_time": "2023-10-12T19:29:47.537970",
     "status": "completed"
    },
    "tags": []
   },
   "outputs": [],
   "source": [
    "# check the unique value or in all data set\n",
    "#sum(unique(df))"
   ]
  },
  {
   "cell_type": "code",
   "execution_count": 24,
   "id": "8fe0946a",
   "metadata": {
    "execution": {
     "iopub.execute_input": "2023-10-12T19:29:47.606954Z",
     "iopub.status.busy": "2023-10-12T19:29:47.604884Z",
     "iopub.status.idle": "2023-10-12T19:29:47.632045Z",
     "shell.execute_reply": "2023-10-12T19:29:47.629490Z"
    },
    "papermill": {
     "duration": 0.047635,
     "end_time": "2023-10-12T19:29:47.635797",
     "exception": false,
     "start_time": "2023-10-12T19:29:47.588162",
     "status": "completed"
    },
    "tags": []
   },
   "outputs": [
    {
     "data": {
      "text/html": [
       "2"
      ],
      "text/latex": [
       "2"
      ],
      "text/markdown": [
       "2"
      ],
      "text/plain": [
       "[1] 2"
      ]
     },
     "metadata": {},
     "output_type": "display_data"
    }
   ],
   "source": [
    "# check if there missing value in the data set\n",
    "sum(is.na(df))"
   ]
  },
  {
   "cell_type": "code",
   "execution_count": 25,
   "id": "01fa12b5",
   "metadata": {
    "execution": {
     "iopub.execute_input": "2023-10-12T19:29:47.721786Z",
     "iopub.status.busy": "2023-10-12T19:29:47.714633Z",
     "iopub.status.idle": "2023-10-12T19:29:47.742030Z",
     "shell.execute_reply": "2023-10-12T19:29:47.740219Z"
    },
    "papermill": {
     "duration": 0.047733,
     "end_time": "2023-10-12T19:29:47.745398",
     "exception": false,
     "start_time": "2023-10-12T19:29:47.697665",
     "status": "completed"
    },
    "tags": []
   },
   "outputs": [],
   "source": [
    "# drop the nan / missing value and save the data after drop the missing\n",
    "df <- na.omit(df)"
   ]
  },
  {
   "cell_type": "code",
   "execution_count": 26,
   "id": "4676458a",
   "metadata": {
    "execution": {
     "iopub.execute_input": "2023-10-12T19:29:47.780349Z",
     "iopub.status.busy": "2023-10-12T19:29:47.778152Z",
     "iopub.status.idle": "2023-10-12T19:29:47.800378Z",
     "shell.execute_reply": "2023-10-12T19:29:47.798242Z"
    },
    "papermill": {
     "duration": 0.043688,
     "end_time": "2023-10-12T19:29:47.803671",
     "exception": false,
     "start_time": "2023-10-12T19:29:47.759983",
     "status": "completed"
    },
    "tags": []
   },
   "outputs": [
    {
     "data": {
      "text/html": [
       "<style>\n",
       ".list-inline {list-style: none; margin:0; padding: 0}\n",
       ".list-inline>li {display: inline-block}\n",
       ".list-inline>li:not(:last-child)::after {content: \"\\00b7\"; padding: 0 .5ex}\n",
       "</style>\n",
       "<ol class=list-inline><li>'Retailer'</li><li>'Retailer.ID'</li><li>'Invoice.Date'</li><li>'Region'</li><li>'State'</li><li>'City'</li><li>'Product'</li><li>'Price.per.Unit'</li><li>'Units.Sold'</li><li>'Total.Sales'</li><li>'Operating.Profit'</li><li>'Sales.Method'</li></ol>\n"
      ],
      "text/latex": [
       "\\begin{enumerate*}\n",
       "\\item 'Retailer'\n",
       "\\item 'Retailer.ID'\n",
       "\\item 'Invoice.Date'\n",
       "\\item 'Region'\n",
       "\\item 'State'\n",
       "\\item 'City'\n",
       "\\item 'Product'\n",
       "\\item 'Price.per.Unit'\n",
       "\\item 'Units.Sold'\n",
       "\\item 'Total.Sales'\n",
       "\\item 'Operating.Profit'\n",
       "\\item 'Sales.Method'\n",
       "\\end{enumerate*}\n"
      ],
      "text/markdown": [
       "1. 'Retailer'\n",
       "2. 'Retailer.ID'\n",
       "3. 'Invoice.Date'\n",
       "4. 'Region'\n",
       "5. 'State'\n",
       "6. 'City'\n",
       "7. 'Product'\n",
       "8. 'Price.per.Unit'\n",
       "9. 'Units.Sold'\n",
       "10. 'Total.Sales'\n",
       "11. 'Operating.Profit'\n",
       "12. 'Sales.Method'\n",
       "\n",
       "\n"
      ],
      "text/plain": [
       " [1] \"Retailer\"         \"Retailer.ID\"      \"Invoice.Date\"     \"Region\"          \n",
       " [5] \"State\"            \"City\"             \"Product\"          \"Price.per.Unit\"  \n",
       " [9] \"Units.Sold\"       \"Total.Sales\"      \"Operating.Profit\" \"Sales.Method\"    "
      ]
     },
     "metadata": {},
     "output_type": "display_data"
    }
   ],
   "source": [
    "# function names to show the names of columns in the data set\n",
    "names(df)"
   ]
  },
  {
   "cell_type": "code",
   "execution_count": 27,
   "id": "7979b08b",
   "metadata": {
    "execution": {
     "iopub.execute_input": "2023-10-12T19:29:47.838342Z",
     "iopub.status.busy": "2023-10-12T19:29:47.836661Z",
     "iopub.status.idle": "2023-10-12T19:29:47.858174Z",
     "shell.execute_reply": "2023-10-12T19:29:47.855882Z"
    },
    "papermill": {
     "duration": 0.04257,
     "end_time": "2023-10-12T19:29:47.861656",
     "exception": false,
     "start_time": "2023-10-12T19:29:47.819086",
     "status": "completed"
    },
    "tags": []
   },
   "outputs": [
    {
     "data": {
      "text/html": [
       "0"
      ],
      "text/latex": [
       "0"
      ],
      "text/markdown": [
       "0"
      ],
      "text/plain": [
       "[1] 0"
      ]
     },
     "metadata": {},
     "output_type": "display_data"
    }
   ],
   "source": [
    "sum(is.na(df))"
   ]
  },
  {
   "cell_type": "code",
   "execution_count": 28,
   "id": "46a1db9a",
   "metadata": {
    "execution": {
     "iopub.execute_input": "2023-10-12T19:29:47.895915Z",
     "iopub.status.busy": "2023-10-12T19:29:47.894316Z",
     "iopub.status.idle": "2023-10-12T19:29:47.912092Z",
     "shell.execute_reply": "2023-10-12T19:29:47.910129Z"
    },
    "papermill": {
     "duration": 0.039918,
     "end_time": "2023-10-12T19:29:47.916530",
     "exception": false,
     "start_time": "2023-10-12T19:29:47.876612",
     "status": "completed"
    },
    "tags": []
   },
   "outputs": [],
   "source": [
    "# add new column - price * units sold column // you can choich any operation + / - *  \n",
    "# the name new column r\n",
    "df$r <- df$Price.per.Unit * df$Units.Sold"
   ]
  },
  {
   "cell_type": "code",
   "execution_count": 29,
   "id": "50d2a633",
   "metadata": {
    "execution": {
     "iopub.execute_input": "2023-10-12T19:29:47.953794Z",
     "iopub.status.busy": "2023-10-12T19:29:47.951950Z",
     "iopub.status.idle": "2023-10-12T19:29:47.992093Z",
     "shell.execute_reply": "2023-10-12T19:29:47.989894Z"
    },
    "papermill": {
     "duration": 0.060316,
     "end_time": "2023-10-12T19:29:47.994737",
     "exception": false,
     "start_time": "2023-10-12T19:29:47.934421",
     "status": "completed"
    },
    "tags": []
   },
   "outputs": [
    {
     "data": {
      "text/html": [
       "<table class=\"dataframe\">\n",
       "<caption>A data.frame: 6 × 13</caption>\n",
       "<thead>\n",
       "\t<tr><th></th><th scope=col>Retailer</th><th scope=col>Retailer.ID</th><th scope=col>Invoice.Date</th><th scope=col>Region</th><th scope=col>State</th><th scope=col>City</th><th scope=col>Product</th><th scope=col>Price.per.Unit</th><th scope=col>Units.Sold</th><th scope=col>Total.Sales</th><th scope=col>Operating.Profit</th><th scope=col>Sales.Method</th><th scope=col>r</th></tr>\n",
       "\t<tr><th></th><th scope=col>&lt;chr&gt;</th><th scope=col>&lt;int&gt;</th><th scope=col>&lt;chr&gt;</th><th scope=col>&lt;chr&gt;</th><th scope=col>&lt;chr&gt;</th><th scope=col>&lt;chr&gt;</th><th scope=col>&lt;chr&gt;</th><th scope=col>&lt;int&gt;</th><th scope=col>&lt;int&gt;</th><th scope=col>&lt;int&gt;</th><th scope=col>&lt;int&gt;</th><th scope=col>&lt;chr&gt;</th><th scope=col>&lt;int&gt;</th></tr>\n",
       "</thead>\n",
       "<tbody>\n",
       "\t<tr><th scope=row>1</th><td>Foot Locker</td><td>1185732</td><td>01-01-20</td><td>Northeast</td><td>New York</td><td>New York</td><td>Men's Street Footwear    </td><td>50</td><td>1200</td><td>60000</td><td>30000</td><td>In-store</td><td>60000</td></tr>\n",
       "\t<tr><th scope=row>2</th><td>Foot Locker</td><td>1185732</td><td>02-01-20</td><td>Northeast</td><td>New York</td><td>New York</td><td>Men's Athletic Footwear  </td><td>50</td><td>1000</td><td>50000</td><td>15000</td><td>In-store</td><td>50000</td></tr>\n",
       "\t<tr><th scope=row>3</th><td>Foot Locker</td><td>1185732</td><td>03-01-20</td><td>Northeast</td><td>New York</td><td>New York</td><td>Women's Street Footwear  </td><td>40</td><td>1000</td><td>40000</td><td>14000</td><td>In-store</td><td>40000</td></tr>\n",
       "\t<tr><th scope=row>4</th><td>Foot Locker</td><td>1185732</td><td>04-01-20</td><td>Northeast</td><td>New York</td><td>New York</td><td>Women's Athletic Footwear</td><td>45</td><td> 850</td><td>38250</td><td>13388</td><td>In-store</td><td>38250</td></tr>\n",
       "\t<tr><th scope=row>5</th><td>Foot Locker</td><td>1185732</td><td>05-01-20</td><td>Northeast</td><td>New York</td><td>New York</td><td>Men's Apparel            </td><td>60</td><td> 900</td><td>54000</td><td>16200</td><td>In-store</td><td>54000</td></tr>\n",
       "\t<tr><th scope=row>6</th><td>Foot Locker</td><td>1185732</td><td>06-01-20</td><td>Northeast</td><td>New York</td><td>New York</td><td>Women's Apparel          </td><td>50</td><td>1000</td><td>50000</td><td>12500</td><td>In-store</td><td>50000</td></tr>\n",
       "</tbody>\n",
       "</table>\n"
      ],
      "text/latex": [
       "A data.frame: 6 × 13\n",
       "\\begin{tabular}{r|lllllllllllll}\n",
       "  & Retailer & Retailer.ID & Invoice.Date & Region & State & City & Product & Price.per.Unit & Units.Sold & Total.Sales & Operating.Profit & Sales.Method & r\\\\\n",
       "  & <chr> & <int> & <chr> & <chr> & <chr> & <chr> & <chr> & <int> & <int> & <int> & <int> & <chr> & <int>\\\\\n",
       "\\hline\n",
       "\t1 & Foot Locker & 1185732 & 01-01-20 & Northeast & New York & New York & Men's Street Footwear     & 50 & 1200 & 60000 & 30000 & In-store & 60000\\\\\n",
       "\t2 & Foot Locker & 1185732 & 02-01-20 & Northeast & New York & New York & Men's Athletic Footwear   & 50 & 1000 & 50000 & 15000 & In-store & 50000\\\\\n",
       "\t3 & Foot Locker & 1185732 & 03-01-20 & Northeast & New York & New York & Women's Street Footwear   & 40 & 1000 & 40000 & 14000 & In-store & 40000\\\\\n",
       "\t4 & Foot Locker & 1185732 & 04-01-20 & Northeast & New York & New York & Women's Athletic Footwear & 45 &  850 & 38250 & 13388 & In-store & 38250\\\\\n",
       "\t5 & Foot Locker & 1185732 & 05-01-20 & Northeast & New York & New York & Men's Apparel             & 60 &  900 & 54000 & 16200 & In-store & 54000\\\\\n",
       "\t6 & Foot Locker & 1185732 & 06-01-20 & Northeast & New York & New York & Women's Apparel           & 50 & 1000 & 50000 & 12500 & In-store & 50000\\\\\n",
       "\\end{tabular}\n"
      ],
      "text/markdown": [
       "\n",
       "A data.frame: 6 × 13\n",
       "\n",
       "| <!--/--> | Retailer &lt;chr&gt; | Retailer.ID &lt;int&gt; | Invoice.Date &lt;chr&gt; | Region &lt;chr&gt; | State &lt;chr&gt; | City &lt;chr&gt; | Product &lt;chr&gt; | Price.per.Unit &lt;int&gt; | Units.Sold &lt;int&gt; | Total.Sales &lt;int&gt; | Operating.Profit &lt;int&gt; | Sales.Method &lt;chr&gt; | r &lt;int&gt; |\n",
       "|---|---|---|---|---|---|---|---|---|---|---|---|---|---|\n",
       "| 1 | Foot Locker | 1185732 | 01-01-20 | Northeast | New York | New York | Men's Street Footwear     | 50 | 1200 | 60000 | 30000 | In-store | 60000 |\n",
       "| 2 | Foot Locker | 1185732 | 02-01-20 | Northeast | New York | New York | Men's Athletic Footwear   | 50 | 1000 | 50000 | 15000 | In-store | 50000 |\n",
       "| 3 | Foot Locker | 1185732 | 03-01-20 | Northeast | New York | New York | Women's Street Footwear   | 40 | 1000 | 40000 | 14000 | In-store | 40000 |\n",
       "| 4 | Foot Locker | 1185732 | 04-01-20 | Northeast | New York | New York | Women's Athletic Footwear | 45 |  850 | 38250 | 13388 | In-store | 38250 |\n",
       "| 5 | Foot Locker | 1185732 | 05-01-20 | Northeast | New York | New York | Men's Apparel             | 60 |  900 | 54000 | 16200 | In-store | 54000 |\n",
       "| 6 | Foot Locker | 1185732 | 06-01-20 | Northeast | New York | New York | Women's Apparel           | 50 | 1000 | 50000 | 12500 | In-store | 50000 |\n",
       "\n"
      ],
      "text/plain": [
       "  Retailer    Retailer.ID Invoice.Date Region    State    City    \n",
       "1 Foot Locker 1185732     01-01-20     Northeast New York New York\n",
       "2 Foot Locker 1185732     02-01-20     Northeast New York New York\n",
       "3 Foot Locker 1185732     03-01-20     Northeast New York New York\n",
       "4 Foot Locker 1185732     04-01-20     Northeast New York New York\n",
       "5 Foot Locker 1185732     05-01-20     Northeast New York New York\n",
       "6 Foot Locker 1185732     06-01-20     Northeast New York New York\n",
       "  Product                   Price.per.Unit Units.Sold Total.Sales\n",
       "1 Men's Street Footwear     50             1200       60000      \n",
       "2 Men's Athletic Footwear   50             1000       50000      \n",
       "3 Women's Street Footwear   40             1000       40000      \n",
       "4 Women's Athletic Footwear 45              850       38250      \n",
       "5 Men's Apparel             60              900       54000      \n",
       "6 Women's Apparel           50             1000       50000      \n",
       "  Operating.Profit Sales.Method r    \n",
       "1 30000            In-store     60000\n",
       "2 15000            In-store     50000\n",
       "3 14000            In-store     40000\n",
       "4 13388            In-store     38250\n",
       "5 16200            In-store     54000\n",
       "6 12500            In-store     50000"
      ]
     },
     "metadata": {},
     "output_type": "display_data"
    }
   ],
   "source": [
    "# show the fisrt 6 rows and show the new column r\n",
    "head(df)"
   ]
  },
  {
   "cell_type": "markdown",
   "id": "58a31b4c",
   "metadata": {
    "papermill": {
     "duration": 0.018624,
     "end_time": "2023-10-12T19:29:48.033138",
     "exception": false,
     "start_time": "2023-10-12T19:29:48.014514",
     "status": "completed"
    },
    "tags": []
   },
   "source": [
    "# **dplyr**"
   ]
  },
  {
   "cell_type": "code",
   "execution_count": 30,
   "id": "105cad26",
   "metadata": {
    "execution": {
     "iopub.execute_input": "2023-10-12T19:29:48.074258Z",
     "iopub.status.busy": "2023-10-12T19:29:48.071997Z",
     "iopub.status.idle": "2023-10-12T19:29:48.092308Z",
     "shell.execute_reply": "2023-10-12T19:29:48.089534Z"
    },
    "papermill": {
     "duration": 0.044028,
     "end_time": "2023-10-12T19:29:48.095678",
     "exception": false,
     "start_time": "2023-10-12T19:29:48.051650",
     "status": "completed"
    },
    "tags": []
   },
   "outputs": [],
   "source": [
    "# dplyr \n",
    "#is a grammar of data manipulation, providing a consistent set of verbs that help you solve the most common data manipulation\n",
    "\n",
    "# mutate() adds new variables that are functions of existing variables\n",
    "# select() picks variables based on their names.\n",
    "# filter() picks cases based on their values.\n",
    "# summarise() reduces multiple values down to a single summary.\n",
    "# arrange() changes the ordering of the rows.\n",
    "# group by \n",
    "\n",
    "#how you can install and loud any library in r\n",
    "\n",
    "#install.packages(\"dplyr\") #install library\n",
    "#library(dplyr)            # loud library\n"
   ]
  },
  {
   "cell_type": "code",
   "execution_count": 31,
   "id": "38d34ee3",
   "metadata": {
    "execution": {
     "iopub.execute_input": "2023-10-12T19:29:48.131977Z",
     "iopub.status.busy": "2023-10-12T19:29:48.129596Z",
     "iopub.status.idle": "2023-10-12T19:31:00.406156Z",
     "shell.execute_reply": "2023-10-12T19:31:00.403823Z"
    },
    "papermill": {
     "duration": 72.308106,
     "end_time": "2023-10-12T19:31:00.419235",
     "exception": false,
     "start_time": "2023-10-12T19:29:48.111129",
     "status": "completed"
    },
    "tags": []
   },
   "outputs": [
    {
     "name": "stderr",
     "output_type": "stream",
     "text": [
      "Installing package into ‘/usr/local/lib/R/site-library’\n",
      "(as ‘lib’ is unspecified)\n",
      "\n",
      "Warning message:\n",
      "“unable to access index for repository http://cran.rstudio.com/src/contrib:\n",
      "  cannot open URL 'http://cran.rstudio.com/src/contrib/PACKAGES'”\n",
      "Warning message:\n",
      "“package ‘dplyr’ is not available for this version of R\n",
      "\n",
      "A version of this package for your version of R might be available elsewhere,\n",
      "see the ideas at\n",
      "https://cran.r-project.org/doc/manuals/r-patched/R-admin.html#Installing-packages”\n"
     ]
    }
   ],
   "source": [
    "install.packages(\"dplyr\")"
   ]
  },
  {
   "cell_type": "code",
   "execution_count": 32,
   "id": "da8353dc",
   "metadata": {
    "execution": {
     "iopub.execute_input": "2023-10-12T19:31:00.453587Z",
     "iopub.status.busy": "2023-10-12T19:31:00.451879Z",
     "iopub.status.idle": "2023-10-12T19:31:00.490046Z",
     "shell.execute_reply": "2023-10-12T19:31:00.488094Z"
    },
    "papermill": {
     "duration": 0.058821,
     "end_time": "2023-10-12T19:31:00.493047",
     "exception": false,
     "start_time": "2023-10-12T19:31:00.434226",
     "status": "completed"
    },
    "tags": []
   },
   "outputs": [
    {
     "name": "stderr",
     "output_type": "stream",
     "text": [
      "\n",
      "Attaching package: ‘dplyr’\n",
      "\n",
      "\n",
      "The following objects are masked from ‘package:stats’:\n",
      "\n",
      "    filter, lag\n",
      "\n",
      "\n",
      "The following objects are masked from ‘package:base’:\n",
      "\n",
      "    intersect, setdiff, setequal, union\n",
      "\n",
      "\n"
     ]
    }
   ],
   "source": [
    "library(dplyr)\n"
   ]
  },
  {
   "cell_type": "code",
   "execution_count": 33,
   "id": "5f0ee8e1",
   "metadata": {
    "execution": {
     "iopub.execute_input": "2023-10-12T19:31:00.530077Z",
     "iopub.status.busy": "2023-10-12T19:31:00.528343Z",
     "iopub.status.idle": "2023-10-12T19:31:00.604705Z",
     "shell.execute_reply": "2023-10-12T19:31:00.601747Z"
    },
    "papermill": {
     "duration": 0.098806,
     "end_time": "2023-10-12T19:31:00.608609",
     "exception": false,
     "start_time": "2023-10-12T19:31:00.509803",
     "status": "completed"
    },
    "tags": []
   },
   "outputs": [
    {
     "data": {
      "text/html": [
       "<table class=\"dataframe\">\n",
       "<caption>A tibble: 6 × 2</caption>\n",
       "<thead>\n",
       "\t<tr><th scope=col>Retailer</th><th scope=col>sum(Operating.Profit)</th></tr>\n",
       "\t<tr><th scope=col>&lt;chr&gt;</th><th scope=col>&lt;int&gt;</th></tr>\n",
       "</thead>\n",
       "<tbody>\n",
       "\t<tr><td>Amazon       </td><td>2881885</td></tr>\n",
       "\t<tr><td>Foot Locker  </td><td>8057050</td></tr>\n",
       "\t<tr><td>Kohl's       </td><td>3681153</td></tr>\n",
       "\t<tr><td>Sports Direct</td><td>7427383</td></tr>\n",
       "\t<tr><td>Walmart      </td><td>2578226</td></tr>\n",
       "\t<tr><td>West Gear    </td><td>8566869</td></tr>\n",
       "</tbody>\n",
       "</table>\n"
      ],
      "text/latex": [
       "A tibble: 6 × 2\n",
       "\\begin{tabular}{ll}\n",
       " Retailer & sum(Operating.Profit)\\\\\n",
       " <chr> & <int>\\\\\n",
       "\\hline\n",
       "\t Amazon        & 2881885\\\\\n",
       "\t Foot Locker   & 8057050\\\\\n",
       "\t Kohl's        & 3681153\\\\\n",
       "\t Sports Direct & 7427383\\\\\n",
       "\t Walmart       & 2578226\\\\\n",
       "\t West Gear     & 8566869\\\\\n",
       "\\end{tabular}\n"
      ],
      "text/markdown": [
       "\n",
       "A tibble: 6 × 2\n",
       "\n",
       "| Retailer &lt;chr&gt; | sum(Operating.Profit) &lt;int&gt; |\n",
       "|---|---|\n",
       "| Amazon        | 2881885 |\n",
       "| Foot Locker   | 8057050 |\n",
       "| Kohl's        | 3681153 |\n",
       "| Sports Direct | 7427383 |\n",
       "| Walmart       | 2578226 |\n",
       "| West Gear     | 8566869 |\n",
       "\n"
      ],
      "text/plain": [
       "  Retailer      sum(Operating.Profit)\n",
       "1 Amazon        2881885              \n",
       "2 Foot Locker   8057050              \n",
       "3 Kohl's        3681153              \n",
       "4 Sports Direct 7427383              \n",
       "5 Walmart       2578226              \n",
       "6 West Gear     8566869              "
      ]
     },
     "metadata": {},
     "output_type": "display_data"
    }
   ],
   "source": [
    "# make gorup by column Retailer and the sum of profit / you can write in the end on line %>% and start new line\n",
    "df%>%\n",
    "group_by(Retailer)%>%\n",
    "summarize(sum (Operating.Profit))"
   ]
  },
  {
   "cell_type": "code",
   "execution_count": 34,
   "id": "ba6c1e5a",
   "metadata": {
    "execution": {
     "iopub.execute_input": "2023-10-12T19:31:00.645413Z",
     "iopub.status.busy": "2023-10-12T19:31:00.643486Z",
     "iopub.status.idle": "2023-10-12T19:31:00.680005Z",
     "shell.execute_reply": "2023-10-12T19:31:00.677177Z"
    },
    "papermill": {
     "duration": 0.05913,
     "end_time": "2023-10-12T19:31:00.683838",
     "exception": false,
     "start_time": "2023-10-12T19:31:00.624708",
     "status": "completed"
    },
    "tags": []
   },
   "outputs": [
    {
     "data": {
      "text/html": [
       "<table class=\"dataframe\">\n",
       "<caption>A data.frame: 1 × 3</caption>\n",
       "<thead>\n",
       "\t<tr><th scope=col>MAX</th><th scope=col>MIN</th><th scope=col>AVG</th></tr>\n",
       "\t<tr><th scope=col>&lt;int&gt;</th><th scope=col>&lt;int&gt;</th><th scope=col>&lt;dbl&gt;</th></tr>\n",
       "</thead>\n",
       "<tbody>\n",
       "\t<tr><td>110</td><td>7</td><td>45.21563</td></tr>\n",
       "</tbody>\n",
       "</table>\n"
      ],
      "text/latex": [
       "A data.frame: 1 × 3\n",
       "\\begin{tabular}{lll}\n",
       " MAX & MIN & AVG\\\\\n",
       " <int> & <int> & <dbl>\\\\\n",
       "\\hline\n",
       "\t 110 & 7 & 45.21563\\\\\n",
       "\\end{tabular}\n"
      ],
      "text/markdown": [
       "\n",
       "A data.frame: 1 × 3\n",
       "\n",
       "| MAX &lt;int&gt; | MIN &lt;int&gt; | AVG &lt;dbl&gt; |\n",
       "|---|---|---|\n",
       "| 110 | 7 | 45.21563 |\n",
       "\n"
      ],
      "text/plain": [
       "  MAX MIN AVG     \n",
       "1 110 7   45.21563"
      ]
     },
     "metadata": {},
     "output_type": "display_data"
    }
   ],
   "source": [
    "# here show the min, max and average the price and create new name \n",
    "df%>%\n",
    "summarize(MAX = max (Price.per.Unit),MIN = min (Price.per.Unit),AVG = mean (Price.per.Unit))"
   ]
  },
  {
   "cell_type": "code",
   "execution_count": 35,
   "id": "ee469877",
   "metadata": {
    "execution": {
     "iopub.execute_input": "2023-10-12T19:31:00.721986Z",
     "iopub.status.busy": "2023-10-12T19:31:00.719999Z",
     "iopub.status.idle": "2023-10-12T19:31:00.746746Z",
     "shell.execute_reply": "2023-10-12T19:31:00.744018Z"
    },
    "papermill": {
     "duration": 0.050031,
     "end_time": "2023-10-12T19:31:00.750490",
     "exception": false,
     "start_time": "2023-10-12T19:31:00.700459",
     "status": "completed"
    },
    "tags": []
   },
   "outputs": [
    {
     "data": {
      "text/html": [
       "<style>\n",
       ".list-inline {list-style: none; margin:0; padding: 0}\n",
       ".list-inline>li {display: inline-block}\n",
       ".list-inline>li:not(:last-child)::after {content: \"\\00b7\"; padding: 0 .5ex}\n",
       "</style>\n",
       "<ol class=list-inline><li>'In-store'</li><li>'Outlet'</li><li>'Online'</li></ol>\n"
      ],
      "text/latex": [
       "\\begin{enumerate*}\n",
       "\\item 'In-store'\n",
       "\\item 'Outlet'\n",
       "\\item 'Online'\n",
       "\\end{enumerate*}\n"
      ],
      "text/markdown": [
       "1. 'In-store'\n",
       "2. 'Outlet'\n",
       "3. 'Online'\n",
       "\n",
       "\n"
      ],
      "text/plain": [
       "[1] \"In-store\" \"Outlet\"   \"Online\"  "
      ]
     },
     "metadata": {},
     "output_type": "display_data"
    }
   ],
   "source": [
    "#show the unique function and how many unique value in this column/ using this $ after the data frame to write the name column\n",
    "unique(df$Sales.Method)"
   ]
  },
  {
   "cell_type": "code",
   "execution_count": 36,
   "id": "130e9866",
   "metadata": {
    "execution": {
     "iopub.execute_input": "2023-10-12T19:31:00.787423Z",
     "iopub.status.busy": "2023-10-12T19:31:00.785351Z",
     "iopub.status.idle": "2023-10-12T19:31:00.890676Z",
     "shell.execute_reply": "2023-10-12T19:31:00.887662Z"
    },
    "papermill": {
     "duration": 0.128225,
     "end_time": "2023-10-12T19:31:00.894772",
     "exception": false,
     "start_time": "2023-10-12T19:31:00.766547",
     "status": "completed"
    },
    "tags": []
   },
   "outputs": [
    {
     "data": {
      "text/html": [
       "<table class=\"dataframe\">\n",
       "<caption>A data.frame: 3 × 3</caption>\n",
       "<thead>\n",
       "\t<tr><th></th><th scope=col>Region</th><th scope=col>Product</th><th scope=col>Price.per.Unit</th></tr>\n",
       "\t<tr><th></th><th scope=col>&lt;chr&gt;</th><th scope=col>&lt;chr&gt;</th><th scope=col>&lt;int&gt;</th></tr>\n",
       "</thead>\n",
       "<tbody>\n",
       "\t<tr><th scope=row>1</th><td>Northeast</td><td>Men's Street Footwear  </td><td>50</td></tr>\n",
       "\t<tr><th scope=row>2</th><td>Northeast</td><td>Men's Athletic Footwear</td><td>50</td></tr>\n",
       "\t<tr><th scope=row>3</th><td>Northeast</td><td>Women's Street Footwear</td><td>40</td></tr>\n",
       "</tbody>\n",
       "</table>\n"
      ],
      "text/latex": [
       "A data.frame: 3 × 3\n",
       "\\begin{tabular}{r|lll}\n",
       "  & Region & Product & Price.per.Unit\\\\\n",
       "  & <chr> & <chr> & <int>\\\\\n",
       "\\hline\n",
       "\t1 & Northeast & Men's Street Footwear   & 50\\\\\n",
       "\t2 & Northeast & Men's Athletic Footwear & 50\\\\\n",
       "\t3 & Northeast & Women's Street Footwear & 40\\\\\n",
       "\\end{tabular}\n"
      ],
      "text/markdown": [
       "\n",
       "A data.frame: 3 × 3\n",
       "\n",
       "| <!--/--> | Region &lt;chr&gt; | Product &lt;chr&gt; | Price.per.Unit &lt;int&gt; |\n",
       "|---|---|---|---|\n",
       "| 1 | Northeast | Men's Street Footwear   | 50 |\n",
       "| 2 | Northeast | Men's Athletic Footwear | 50 |\n",
       "| 3 | Northeast | Women's Street Footwear | 40 |\n",
       "\n"
      ],
      "text/plain": [
       "  Region    Product                 Price.per.Unit\n",
       "1 Northeast Men's Street Footwear   50            \n",
       "2 Northeast Men's Athletic Footwear 50            \n",
       "3 Northeast Women's Street Footwear 40            "
      ]
     },
     "metadata": {},
     "output_type": "display_data"
    }
   ],
   "source": [
    "# here we using filter function / filter on column Sales method value = online or instore\n",
    "# and using select function to choich 3 column and show the 3 rows using head \n",
    "\n",
    "df %>%\n",
    "filter(Sales.Method==\"Online\" ||Sales.Method==\"In-store\" ) %>%\n",
    "select(Region,Product,Price.per.Unit )%>%\n",
    "head(3)"
   ]
  },
  {
   "cell_type": "code",
   "execution_count": 37,
   "id": "f0544b43",
   "metadata": {
    "execution": {
     "iopub.execute_input": "2023-10-12T19:31:00.933295Z",
     "iopub.status.busy": "2023-10-12T19:31:00.931267Z",
     "iopub.status.idle": "2023-10-12T19:31:00.980816Z",
     "shell.execute_reply": "2023-10-12T19:31:00.977516Z"
    },
    "papermill": {
     "duration": 0.073377,
     "end_time": "2023-10-12T19:31:00.984776",
     "exception": false,
     "start_time": "2023-10-12T19:31:00.911399",
     "status": "completed"
    },
    "tags": []
   },
   "outputs": [
    {
     "data": {
      "text/html": [
       "<table class=\"dataframe\">\n",
       "<caption>A data.frame: 3 × 13</caption>\n",
       "<thead>\n",
       "\t<tr><th></th><th scope=col>Retailer</th><th scope=col>Retailer.ID</th><th scope=col>Invoice.Date</th><th scope=col>Region</th><th scope=col>State</th><th scope=col>City</th><th scope=col>Product</th><th scope=col>Price.per.Unit</th><th scope=col>Units.Sold</th><th scope=col>Total.Sales</th><th scope=col>Operating.Profit</th><th scope=col>Sales.Method</th><th scope=col>r</th></tr>\n",
       "\t<tr><th></th><th scope=col>&lt;chr&gt;</th><th scope=col>&lt;int&gt;</th><th scope=col>&lt;chr&gt;</th><th scope=col>&lt;chr&gt;</th><th scope=col>&lt;chr&gt;</th><th scope=col>&lt;chr&gt;</th><th scope=col>&lt;chr&gt;</th><th scope=col>&lt;int&gt;</th><th scope=col>&lt;int&gt;</th><th scope=col>&lt;int&gt;</th><th scope=col>&lt;int&gt;</th><th scope=col>&lt;chr&gt;</th><th scope=col>&lt;int&gt;</th></tr>\n",
       "</thead>\n",
       "<tbody>\n",
       "\t<tr><th scope=row>1</th><td>Sports Direct</td><td>1197831</td><td>25-08-21</td><td>South</td><td>Alabama</td><td>Birmingham    </td><td>Men's Street Footwear    </td><td>7</td><td>224</td><td>157</td><td>74</td><td>Outlet</td><td>1568</td></tr>\n",
       "\t<tr><th scope=row>2</th><td>West Gear    </td><td>1185732</td><td>12-09-21</td><td>West </td><td>Utah   </td><td>Salt Lake City</td><td>Women's Street Footwear  </td><td>7</td><td>105</td><td> 74</td><td>31</td><td>Outlet</td><td> 735</td></tr>\n",
       "\t<tr><th scope=row>3</th><td>West Gear    </td><td>1185732</td><td>12-09-21</td><td>West </td><td>Utah   </td><td>Salt Lake City</td><td>Women's Athletic Footwear</td><td>7</td><td>111</td><td> 78</td><td>36</td><td>Outlet</td><td> 777</td></tr>\n",
       "</tbody>\n",
       "</table>\n"
      ],
      "text/latex": [
       "A data.frame: 3 × 13\n",
       "\\begin{tabular}{r|lllllllllllll}\n",
       "  & Retailer & Retailer.ID & Invoice.Date & Region & State & City & Product & Price.per.Unit & Units.Sold & Total.Sales & Operating.Profit & Sales.Method & r\\\\\n",
       "  & <chr> & <int> & <chr> & <chr> & <chr> & <chr> & <chr> & <int> & <int> & <int> & <int> & <chr> & <int>\\\\\n",
       "\\hline\n",
       "\t1 & Sports Direct & 1197831 & 25-08-21 & South & Alabama & Birmingham     & Men's Street Footwear     & 7 & 224 & 157 & 74 & Outlet & 1568\\\\\n",
       "\t2 & West Gear     & 1185732 & 12-09-21 & West  & Utah    & Salt Lake City & Women's Street Footwear   & 7 & 105 &  74 & 31 & Outlet &  735\\\\\n",
       "\t3 & West Gear     & 1185732 & 12-09-21 & West  & Utah    & Salt Lake City & Women's Athletic Footwear & 7 & 111 &  78 & 36 & Outlet &  777\\\\\n",
       "\\end{tabular}\n"
      ],
      "text/markdown": [
       "\n",
       "A data.frame: 3 × 13\n",
       "\n",
       "| <!--/--> | Retailer &lt;chr&gt; | Retailer.ID &lt;int&gt; | Invoice.Date &lt;chr&gt; | Region &lt;chr&gt; | State &lt;chr&gt; | City &lt;chr&gt; | Product &lt;chr&gt; | Price.per.Unit &lt;int&gt; | Units.Sold &lt;int&gt; | Total.Sales &lt;int&gt; | Operating.Profit &lt;int&gt; | Sales.Method &lt;chr&gt; | r &lt;int&gt; |\n",
       "|---|---|---|---|---|---|---|---|---|---|---|---|---|---|\n",
       "| 1 | Sports Direct | 1197831 | 25-08-21 | South | Alabama | Birmingham     | Men's Street Footwear     | 7 | 224 | 157 | 74 | Outlet | 1568 |\n",
       "| 2 | West Gear     | 1185732 | 12-09-21 | West  | Utah    | Salt Lake City | Women's Street Footwear   | 7 | 105 |  74 | 31 | Outlet |  735 |\n",
       "| 3 | West Gear     | 1185732 | 12-09-21 | West  | Utah    | Salt Lake City | Women's Athletic Footwear | 7 | 111 |  78 | 36 | Outlet |  777 |\n",
       "\n"
      ],
      "text/plain": [
       "  Retailer      Retailer.ID Invoice.Date Region State   City          \n",
       "1 Sports Direct 1197831     25-08-21     South  Alabama Birmingham    \n",
       "2 West Gear     1185732     12-09-21     West   Utah    Salt Lake City\n",
       "3 West Gear     1185732     12-09-21     West   Utah    Salt Lake City\n",
       "  Product                   Price.per.Unit Units.Sold Total.Sales\n",
       "1 Men's Street Footwear     7              224        157        \n",
       "2 Women's Street Footwear   7              105         74        \n",
       "3 Women's Athletic Footwear 7              111         78        \n",
       "  Operating.Profit Sales.Method r   \n",
       "1 74               Outlet       1568\n",
       "2 31               Outlet        735\n",
       "3 36               Outlet        777"
      ]
     },
     "metadata": {},
     "output_type": "display_data"
    }
   ],
   "source": [
    "# how you can sort the data using arrange function\n",
    "df%>%\n",
    "arrange(Price.per.Unit)%>%\n",
    "head(3)"
   ]
  },
  {
   "cell_type": "code",
   "execution_count": 38,
   "id": "57c19019",
   "metadata": {
    "execution": {
     "iopub.execute_input": "2023-10-12T19:31:01.031893Z",
     "iopub.status.busy": "2023-10-12T19:31:01.029900Z",
     "iopub.status.idle": "2023-10-12T19:31:01.081067Z",
     "shell.execute_reply": "2023-10-12T19:31:01.078450Z"
    },
    "papermill": {
     "duration": 0.082302,
     "end_time": "2023-10-12T19:31:01.084437",
     "exception": false,
     "start_time": "2023-10-12T19:31:01.002135",
     "status": "completed"
    },
    "tags": []
   },
   "outputs": [
    {
     "data": {
      "text/html": [
       "<table class=\"dataframe\">\n",
       "<caption>A data.frame: 3 × 5</caption>\n",
       "<thead>\n",
       "\t<tr><th></th><th scope=col>Retailer</th><th scope=col>Product</th><th scope=col>Price.per.Unit</th><th scope=col>Sales.Method</th><th scope=col>new_c</th></tr>\n",
       "\t<tr><th></th><th scope=col>&lt;chr&gt;</th><th scope=col>&lt;chr&gt;</th><th scope=col>&lt;int&gt;</th><th scope=col>&lt;chr&gt;</th><th scope=col>&lt;dbl&gt;</th></tr>\n",
       "</thead>\n",
       "<tbody>\n",
       "\t<tr><th scope=row>1</th><td>Foot Locker</td><td>Men's Street Footwear  </td><td>50</td><td>In-store</td><td>75</td></tr>\n",
       "\t<tr><th scope=row>2</th><td>Foot Locker</td><td>Men's Athletic Footwear</td><td>50</td><td>In-store</td><td>75</td></tr>\n",
       "\t<tr><th scope=row>3</th><td>Foot Locker</td><td>Women's Street Footwear</td><td>40</td><td>In-store</td><td>60</td></tr>\n",
       "</tbody>\n",
       "</table>\n"
      ],
      "text/latex": [
       "A data.frame: 3 × 5\n",
       "\\begin{tabular}{r|lllll}\n",
       "  & Retailer & Product & Price.per.Unit & Sales.Method & new\\_c\\\\\n",
       "  & <chr> & <chr> & <int> & <chr> & <dbl>\\\\\n",
       "\\hline\n",
       "\t1 & Foot Locker & Men's Street Footwear   & 50 & In-store & 75\\\\\n",
       "\t2 & Foot Locker & Men's Athletic Footwear & 50 & In-store & 75\\\\\n",
       "\t3 & Foot Locker & Women's Street Footwear & 40 & In-store & 60\\\\\n",
       "\\end{tabular}\n"
      ],
      "text/markdown": [
       "\n",
       "A data.frame: 3 × 5\n",
       "\n",
       "| <!--/--> | Retailer &lt;chr&gt; | Product &lt;chr&gt; | Price.per.Unit &lt;int&gt; | Sales.Method &lt;chr&gt; | new_c &lt;dbl&gt; |\n",
       "|---|---|---|---|---|---|\n",
       "| 1 | Foot Locker | Men's Street Footwear   | 50 | In-store | 75 |\n",
       "| 2 | Foot Locker | Men's Athletic Footwear | 50 | In-store | 75 |\n",
       "| 3 | Foot Locker | Women's Street Footwear | 40 | In-store | 60 |\n",
       "\n"
      ],
      "text/plain": [
       "  Retailer    Product                 Price.per.Unit Sales.Method new_c\n",
       "1 Foot Locker Men's Street Footwear   50             In-store     75   \n",
       "2 Foot Locker Men's Athletic Footwear 50             In-store     75   \n",
       "3 Foot Locker Women's Street Footwear 40             In-store     60   "
      ]
     },
     "metadata": {},
     "output_type": "display_data"
    }
   ],
   "source": [
    "# function Mutate to creating new column using any operation math\n",
    "\n",
    "df%>%\n",
    "mutate (new_c =Price.per.Unit * 1.5 ) %>%\n",
    "select (Retailer,Product,Price.per.Unit,Sales.Method,new_c)%>%\n",
    "head(3)"
   ]
  },
  {
   "cell_type": "code",
   "execution_count": 39,
   "id": "822a02cd",
   "metadata": {
    "execution": {
     "iopub.execute_input": "2023-10-12T19:31:01.122344Z",
     "iopub.status.busy": "2023-10-12T19:31:01.120261Z",
     "iopub.status.idle": "2023-10-12T19:31:01.163015Z",
     "shell.execute_reply": "2023-10-12T19:31:01.160519Z"
    },
    "papermill": {
     "duration": 0.064883,
     "end_time": "2023-10-12T19:31:01.166298",
     "exception": false,
     "start_time": "2023-10-12T19:31:01.101415",
     "status": "completed"
    },
    "tags": []
   },
   "outputs": [
    {
     "data": {
      "text/html": [
       "<table class=\"dataframe\">\n",
       "<caption>A tibble: 3 × 2</caption>\n",
       "<thead>\n",
       "\t<tr><th scope=col>Sales.Method</th><th scope=col>sum(Total.Sales)</th></tr>\n",
       "\t<tr><th scope=col>&lt;chr&gt;</th><th scope=col>&lt;int&gt;</th></tr>\n",
       "</thead>\n",
       "<tbody>\n",
       "\t<tr><td>In-store</td><td>7652500</td></tr>\n",
       "\t<tr><td>Online  </td><td>7294363</td></tr>\n",
       "\t<tr><td>Outlet  </td><td>7011665</td></tr>\n",
       "</tbody>\n",
       "</table>\n"
      ],
      "text/latex": [
       "A tibble: 3 × 2\n",
       "\\begin{tabular}{ll}\n",
       " Sales.Method & sum(Total.Sales)\\\\\n",
       " <chr> & <int>\\\\\n",
       "\\hline\n",
       "\t In-store & 7652500\\\\\n",
       "\t Online   & 7294363\\\\\n",
       "\t Outlet   & 7011665\\\\\n",
       "\\end{tabular}\n"
      ],
      "text/markdown": [
       "\n",
       "A tibble: 3 × 2\n",
       "\n",
       "| Sales.Method &lt;chr&gt; | sum(Total.Sales) &lt;int&gt; |\n",
       "|---|---|\n",
       "| In-store | 7652500 |\n",
       "| Online   | 7294363 |\n",
       "| Outlet   | 7011665 |\n",
       "\n"
      ],
      "text/plain": [
       "  Sales.Method sum(Total.Sales)\n",
       "1 In-store     7652500         \n",
       "2 Online       7294363         \n",
       "3 Outlet       7011665         "
      ]
     },
     "metadata": {},
     "output_type": "display_data"
    }
   ],
   "source": [
    "# Now show the total sales with group on Sales Method  based on Retailer == \"Foot Locker\" \n",
    "df%>%\n",
    "filter(Retailer == \"Foot Locker\")%>%\n",
    "group_by(Sales.Method)%>%\n",
    "summarize(sum (Total.Sales))"
   ]
  },
  {
   "cell_type": "markdown",
   "id": "48f22313",
   "metadata": {
    "papermill": {
     "duration": 0.016955,
     "end_time": "2023-10-12T19:31:01.200179",
     "exception": false,
     "start_time": "2023-10-12T19:31:01.183224",
     "status": "completed"
    },
    "tags": []
   },
   "source": [
    "# **ggplot**"
   ]
  },
  {
   "cell_type": "code",
   "execution_count": 40,
   "id": "cbecf4d3",
   "metadata": {
    "execution": {
     "iopub.execute_input": "2023-10-12T19:31:01.238757Z",
     "iopub.status.busy": "2023-10-12T19:31:01.236786Z",
     "iopub.status.idle": "2023-10-12T19:31:01.254909Z",
     "shell.execute_reply": "2023-10-12T19:31:01.252804Z"
    },
    "papermill": {
     "duration": 0.041134,
     "end_time": "2023-10-12T19:31:01.258397",
     "exception": false,
     "start_time": "2023-10-12T19:31:01.217263",
     "status": "completed"
    },
    "tags": []
   },
   "outputs": [],
   "source": [
    "# ggplot is a popular data visualization package in R programming.\n",
    "\n",
    "#install.packages(\"ggplot2\")    install\n",
    "#library(\"ggplot2\")             loud\n",
    "\n",
    "# the formal the drow visualization / ggplot(dataframe, aes(x=\"column name\",y=\"column nam\"))+gemo_ the name of visualization "
   ]
  },
  {
   "cell_type": "code",
   "execution_count": 41,
   "id": "347b61af",
   "metadata": {
    "execution": {
     "iopub.execute_input": "2023-10-12T19:31:01.298525Z",
     "iopub.status.busy": "2023-10-12T19:31:01.296596Z",
     "iopub.status.idle": "2023-10-12T19:32:13.403655Z",
     "shell.execute_reply": "2023-10-12T19:32:13.401715Z"
    },
    "papermill": {
     "duration": 72.141163,
     "end_time": "2023-10-12T19:32:13.416502",
     "exception": false,
     "start_time": "2023-10-12T19:31:01.275339",
     "status": "completed"
    },
    "tags": []
   },
   "outputs": [
    {
     "name": "stderr",
     "output_type": "stream",
     "text": [
      "Installing package into ‘/usr/local/lib/R/site-library’\n",
      "(as ‘lib’ is unspecified)\n",
      "\n",
      "Warning message:\n",
      "“unable to access index for repository http://cran.rstudio.com/src/contrib:\n",
      "  cannot open URL 'http://cran.rstudio.com/src/contrib/PACKAGES'”\n",
      "Warning message:\n",
      "“package ‘ggplot2’ is not available for this version of R\n",
      "\n",
      "A version of this package for your version of R might be available elsewhere,\n",
      "see the ideas at\n",
      "https://cran.r-project.org/doc/manuals/r-patched/R-admin.html#Installing-packages”\n"
     ]
    }
   ],
   "source": [
    "install.packages(\"ggplot2\")"
   ]
  },
  {
   "cell_type": "code",
   "execution_count": 42,
   "id": "4f396e2c",
   "metadata": {
    "execution": {
     "iopub.execute_input": "2023-10-12T19:32:13.454483Z",
     "iopub.status.busy": "2023-10-12T19:32:13.452545Z",
     "iopub.status.idle": "2023-10-12T19:32:13.691438Z",
     "shell.execute_reply": "2023-10-12T19:32:13.688182Z"
    },
    "papermill": {
     "duration": 0.261458,
     "end_time": "2023-10-12T19:32:13.694753",
     "exception": false,
     "start_time": "2023-10-12T19:32:13.433295",
     "status": "completed"
    },
    "tags": []
   },
   "outputs": [],
   "source": [
    "library(\"ggplot2\")"
   ]
  },
  {
   "cell_type": "code",
   "execution_count": 43,
   "id": "a2c8dff0",
   "metadata": {
    "execution": {
     "iopub.execute_input": "2023-10-12T19:32:13.733807Z",
     "iopub.status.busy": "2023-10-12T19:32:13.731687Z",
     "iopub.status.idle": "2023-10-12T19:32:14.425894Z",
     "shell.execute_reply": "2023-10-12T19:32:14.422214Z"
    },
    "papermill": {
     "duration": 0.717272,
     "end_time": "2023-10-12T19:32:14.429158",
     "exception": false,
     "start_time": "2023-10-12T19:32:13.711886",
     "status": "completed"
    },
    "tags": []
   },
   "outputs": [
    {
     "data": {
      "image/png": "[encoded data removed]"
     },
     "metadata": {
      "image/png": {
       "height": 420,
       "width": 420
      }
     },
     "output_type": "display_data"
    }
   ],
   "source": [
    "#drow column Sales Method with Total sales / basic visualization\n",
    "df%>%\n",
    "ggplot(aes(x=Sales.Method,y= Total.Sales))+geom_bar(stat=\"identity\")"
   ]
  },
  {
   "cell_type": "code",
   "execution_count": 44,
   "id": "996d687c",
   "metadata": {
    "execution": {
     "iopub.execute_input": "2023-10-12T19:32:14.468721Z",
     "iopub.status.busy": "2023-10-12T19:32:14.466734Z",
     "iopub.status.idle": "2023-10-12T19:32:14.832170Z",
     "shell.execute_reply": "2023-10-12T19:32:14.829703Z"
    },
    "papermill": {
     "duration": 0.388859,
     "end_time": "2023-10-12T19:32:14.835343",
     "exception": false,
     "start_time": "2023-10-12T19:32:14.446484",
     "status": "completed"
    },
    "tags": []
   },
   "outputs": [
    {
     "data": {
      "image/png": "[encoded data removed]"
     },
     "metadata": {
      "image/png": {
       "height": 420,
       "width": 420
      }
     },
     "output_type": "display_data"
    }
   ],
   "source": [
    "#drow column Retailer with Total sales / basic visualization\n",
    "df%>%\n",
    "ggplot(aes(x=Retailer,y= Total.Sales))+geom_line(stat=\"identity\")"
   ]
  },
  {
   "cell_type": "code",
   "execution_count": 45,
   "id": "594f0926",
   "metadata": {
    "execution": {
     "iopub.execute_input": "2023-10-12T19:32:14.874774Z",
     "iopub.status.busy": "2023-10-12T19:32:14.872860Z",
     "iopub.status.idle": "2023-10-12T19:32:15.344653Z",
     "shell.execute_reply": "2023-10-12T19:32:15.342473Z"
    },
    "papermill": {
     "duration": 0.494463,
     "end_time": "2023-10-12T19:32:15.347344",
     "exception": false,
     "start_time": "2023-10-12T19:32:14.852881",
     "status": "completed"
    },
    "tags": []
   },
   "outputs": [
    {
     "data": {
      "image/png": "[encoded data removed]"
     },
     "metadata": {
      "image/png": {
       "height": 420,
       "width": 420
      }
     },
     "output_type": "display_data"
    }
   ],
   "source": [
    "#drow column Retailer with Total sales / basic visualization\n",
    "df%>%\n",
    "ggplot(aes(x=Retailer,y= Total.Sales))+geom_boxplot()"
   ]
  },
  {
   "cell_type": "code",
   "execution_count": 46,
   "id": "2b7b0928",
   "metadata": {
    "execution": {
     "iopub.execute_input": "2023-10-12T19:32:15.391589Z",
     "iopub.status.busy": "2023-10-12T19:32:15.389508Z",
     "iopub.status.idle": "2023-10-12T19:32:16.142960Z",
     "shell.execute_reply": "2023-10-12T19:32:16.140613Z"
    },
    "papermill": {
     "duration": 0.777019,
     "end_time": "2023-10-12T19:32:16.145758",
     "exception": false,
     "start_time": "2023-10-12T19:32:15.368739",
     "status": "completed"
    },
    "tags": []
   },
   "outputs": [
    {
     "data": {
      "image/png": "[encoded data removed]"
     },
     "metadata": {
      "image/png": {
       "height": 420,
       "width": 420
      }
     },
     "output_type": "display_data"
    }
   ],
   "source": [
    "df%>%\n",
    "ggplot(aes(x=Total.Sales,y= Operating.Profit))+geom_point()"
   ]
  },
  {
   "cell_type": "code",
   "execution_count": 47,
   "id": "3e350b6a",
   "metadata": {
    "execution": {
     "iopub.execute_input": "2023-10-12T19:32:16.193073Z",
     "iopub.status.busy": "2023-10-12T19:32:16.191082Z",
     "iopub.status.idle": "2023-10-12T19:32:17.107568Z",
     "shell.execute_reply": "2023-10-12T19:32:17.105089Z"
    },
    "papermill": {
     "duration": 0.943199,
     "end_time": "2023-10-12T19:32:17.110948",
     "exception": false,
     "start_time": "2023-10-12T19:32:16.167749",
     "status": "completed"
    },
    "tags": []
   },
   "outputs": [
    {
     "data": {
      "image/png": "[encoded data removed]"
     },
     "metadata": {
      "image/png": {
       "height": 420,
       "width": 420
      }
     },
     "output_type": "display_data"
    }
   ],
   "source": [
    "# now using color in this graph / you can replace Sales method to any color you want\n",
    "#labs if you want add title and x =the name x label and the same in y\n",
    "\n",
    "df%>%\n",
    "ggplot(aes(x=Total.Sales,y= Operating.Profit, color=Sales.Method))+geom_point()+labs(title = \"The Sales with Profit\",x= \"Sales\",y=\"Profit\")"
   ]
  },
  {
   "cell_type": "markdown",
   "id": "e39eb468",
   "metadata": {
    "papermill": {
     "duration": 0.024067,
     "end_time": "2023-10-12T19:32:17.159337",
     "exception": false,
     "start_time": "2023-10-12T19:32:17.135270",
     "status": "completed"
    },
    "tags": []
   },
   "source": [
    "# End the first version "
   ]
  },
  {
   "cell_type": "markdown",
   "id": "7f6150cc",
   "metadata": {
    "papermill": {
     "duration": 0.026206,
     "end_time": "2023-10-12T19:32:17.208983",
     "exception": false,
     "start_time": "2023-10-12T19:32:17.182777",
     "status": "completed"
    },
    "tags": []
   },
   "source": [
    "## If you have any questions, feel free to contact me."
   ]
  },
  {
   "cell_type": "markdown",
   "id": "cfb12544",
   "metadata": {
    "papermill": {
     "duration": 0.022566,
     "end_time": "2023-10-12T19:32:17.254953",
     "exception": false,
     "start_time": "2023-10-12T19:32:17.232387",
     "status": "completed"
    },
    "tags": []
   },
   "source": [
    "# Qusay AL-Btoush"
   ]
  },
  {
   "cell_type": "markdown",
   "id": "outstanding-contractor",
   "metadata": {
    "papermill": {
     "duration": 0.02265,
     "end_time": "2023-10-12T19:32:17.302471",
     "exception": false,
     "start_time": "2023-10-12T19:32:17.279821",
     "status": "completed"
    },
    "tags": []
   },
   "source": [
    "[https://www.kaggle.com/qusaybtoush1990](http://)\n"
   ]
  },
  {
   "cell_type": "markdown",
   "id": "sunrise-river",
   "metadata": {
    "papermill": {
     "duration": 0.02265,
     "end_time": "2023-10-12T19:32:17.302471",
     "exception": false,
     "start_time": "2023-10-12T19:32:17.279821",
     "status": "completed"
    },
    "tags": []
   },
   "source": [
    "[https://www.kaggle.com/qusaybtoush1990](http://)\n"
   ]
  },
  {
   "cell_type": "markdown",
   "id": "cardiovascular-alexander",
   "metadata": {
    "papermill": {
     "duration": 0.023041,
     "end_time": "2023-10-12T19:32:17.347947",
     "exception": false,
     "start_time": "2023-10-12T19:32:17.324906",
     "status": "completed"
    },
    "tags": []
   },
   "source": [
    "[https://github.com/qusaybtoush](http://)\n"
   ]
  },
  {
   "cell_type": "markdown",
   "id": "ignored-mobility",
   "metadata": {
    "papermill": {
     "duration": 0.023052,
     "end_time": "2023-10-12T19:32:17.394793",
     "exception": false,
     "start_time": "2023-10-12T19:32:17.371741",
     "status": "completed"
    },
    "tags": []
   },
   "source": [
    "[https://www.linkedin.com/in/qusayal-btoush/](http://)"
   ]
  }
 ],
 "metadata": {
  "kernelspec": {
   "display_name": "Python 3",
   "language": "python",
   "name": "python3"
  },
  "language_info": {
   "codemirror_mode": {
    "name": "ipython",
    "version": 3
   },
   "file_extension": ".py",
   "mimetype": "text/x-python",
   "name": "python",
   "nbconvert_exporter": "python",
   "pygments_lexer": "ipython3",
   "version": "3.8.5"
  },
  "papermill": {
   "default_parameters": {},
   "duration": 156.467612,
   "end_time": "2023-10-12T19:32:17.540401",
   "environment_variables": {},
   "exception": null,
   "input_path": "__notebook__.ipynb",
   "output_path": "__notebook__.ipynb",
   "parameters": {},
   "start_time": "2023-10-12T19:29:41.072789",
   "version": "2.4.0"
  }
 },
 "nbformat": 4,
 "nbformat_minor": 5
}
